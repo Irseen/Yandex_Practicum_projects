{
 "cells": [
  {
   "cell_type": "markdown",
   "metadata": {},
   "source": [
    "# The task\n",
    "We need to protect the data of clients of the insurance company. Develop such a method of data transformation so that it would be difficult to recover personal information from it. \n",
    "We need to protect data so that the quality of machine learning models does not degrade as you transform."
   ]
  },
  {
   "cell_type": "markdown",
   "metadata": {},
   "source": [
    "## 1. Start"
   ]
  },
  {
   "cell_type": "code",
   "execution_count": 1,
   "metadata": {},
   "outputs": [],
   "source": [
    "import pandas as pd\n",
    "import numpy as np\n",
    "from numpy.linalg import inv\n",
    "from sklearn.linear_model import LinearRegression \n",
    "from sklearn.metrics import r2_score"
   ]
  },
  {
   "cell_type": "code",
   "execution_count": 2,
   "metadata": {},
   "outputs": [
    {
     "data": {
      "text/html": [
       "<div>\n",
       "<style scoped>\n",
       "    .dataframe tbody tr th:only-of-type {\n",
       "        vertical-align: middle;\n",
       "    }\n",
       "\n",
       "    .dataframe tbody tr th {\n",
       "        vertical-align: top;\n",
       "    }\n",
       "\n",
       "    .dataframe thead th {\n",
       "        text-align: right;\n",
       "    }\n",
       "</style>\n",
       "<table border=\"1\" class=\"dataframe\">\n",
       "  <thead>\n",
       "    <tr style=\"text-align: right;\">\n",
       "      <th></th>\n",
       "      <th>Пол</th>\n",
       "      <th>Возраст</th>\n",
       "      <th>Зарплата</th>\n",
       "      <th>Члены семьи</th>\n",
       "      <th>Страховые выплаты</th>\n",
       "    </tr>\n",
       "  </thead>\n",
       "  <tbody>\n",
       "    <tr>\n",
       "      <th>0</th>\n",
       "      <td>1</td>\n",
       "      <td>41.0</td>\n",
       "      <td>49600.0</td>\n",
       "      <td>1</td>\n",
       "      <td>0</td>\n",
       "    </tr>\n",
       "    <tr>\n",
       "      <th>1</th>\n",
       "      <td>0</td>\n",
       "      <td>46.0</td>\n",
       "      <td>38000.0</td>\n",
       "      <td>1</td>\n",
       "      <td>1</td>\n",
       "    </tr>\n",
       "    <tr>\n",
       "      <th>2</th>\n",
       "      <td>0</td>\n",
       "      <td>29.0</td>\n",
       "      <td>21000.0</td>\n",
       "      <td>0</td>\n",
       "      <td>0</td>\n",
       "    </tr>\n",
       "    <tr>\n",
       "      <th>3</th>\n",
       "      <td>0</td>\n",
       "      <td>21.0</td>\n",
       "      <td>41700.0</td>\n",
       "      <td>2</td>\n",
       "      <td>0</td>\n",
       "    </tr>\n",
       "    <tr>\n",
       "      <th>4</th>\n",
       "      <td>1</td>\n",
       "      <td>28.0</td>\n",
       "      <td>26100.0</td>\n",
       "      <td>0</td>\n",
       "      <td>0</td>\n",
       "    </tr>\n",
       "    <tr>\n",
       "      <th>...</th>\n",
       "      <td>...</td>\n",
       "      <td>...</td>\n",
       "      <td>...</td>\n",
       "      <td>...</td>\n",
       "      <td>...</td>\n",
       "    </tr>\n",
       "    <tr>\n",
       "      <th>4995</th>\n",
       "      <td>0</td>\n",
       "      <td>28.0</td>\n",
       "      <td>35700.0</td>\n",
       "      <td>2</td>\n",
       "      <td>0</td>\n",
       "    </tr>\n",
       "    <tr>\n",
       "      <th>4996</th>\n",
       "      <td>0</td>\n",
       "      <td>34.0</td>\n",
       "      <td>52400.0</td>\n",
       "      <td>1</td>\n",
       "      <td>0</td>\n",
       "    </tr>\n",
       "    <tr>\n",
       "      <th>4997</th>\n",
       "      <td>0</td>\n",
       "      <td>20.0</td>\n",
       "      <td>33900.0</td>\n",
       "      <td>2</td>\n",
       "      <td>0</td>\n",
       "    </tr>\n",
       "    <tr>\n",
       "      <th>4998</th>\n",
       "      <td>1</td>\n",
       "      <td>22.0</td>\n",
       "      <td>32700.0</td>\n",
       "      <td>3</td>\n",
       "      <td>0</td>\n",
       "    </tr>\n",
       "    <tr>\n",
       "      <th>4999</th>\n",
       "      <td>1</td>\n",
       "      <td>28.0</td>\n",
       "      <td>40600.0</td>\n",
       "      <td>1</td>\n",
       "      <td>0</td>\n",
       "    </tr>\n",
       "  </tbody>\n",
       "</table>\n",
       "<p>5000 rows × 5 columns</p>\n",
       "</div>"
      ],
      "text/plain": [
       "      Пол  Возраст  Зарплата  Члены семьи  Страховые выплаты\n",
       "0       1     41.0   49600.0            1                  0\n",
       "1       0     46.0   38000.0            1                  1\n",
       "2       0     29.0   21000.0            0                  0\n",
       "3       0     21.0   41700.0            2                  0\n",
       "4       1     28.0   26100.0            0                  0\n",
       "...   ...      ...       ...          ...                ...\n",
       "4995    0     28.0   35700.0            2                  0\n",
       "4996    0     34.0   52400.0            1                  0\n",
       "4997    0     20.0   33900.0            2                  0\n",
       "4998    1     22.0   32700.0            3                  0\n",
       "4999    1     28.0   40600.0            1                  0\n",
       "\n",
       "[5000 rows x 5 columns]"
      ]
     },
     "execution_count": 2,
     "metadata": {},
     "output_type": "execute_result"
    }
   ],
   "source": [
    "data=pd.read_csv('datasets/insurance.csv')\n",
    "data"
   ]
  },
  {
   "cell_type": "code",
   "execution_count": 3,
   "metadata": {},
   "outputs": [
    {
     "name": "stdout",
     "output_type": "stream",
     "text": [
      "<class 'pandas.core.frame.DataFrame'>\n",
      "RangeIndex: 5000 entries, 0 to 4999\n",
      "Data columns (total 5 columns):\n",
      " #   Column             Non-Null Count  Dtype  \n",
      "---  ------             --------------  -----  \n",
      " 0   Пол                5000 non-null   int64  \n",
      " 1   Возраст            5000 non-null   float64\n",
      " 2   Зарплата           5000 non-null   float64\n",
      " 3   Члены семьи        5000 non-null   int64  \n",
      " 4   Страховые выплаты  5000 non-null   int64  \n",
      "dtypes: float64(2), int64(3)\n",
      "memory usage: 195.4 KB\n"
     ]
    }
   ],
   "source": [
    "data.info()"
   ]
  },
  {
   "cell_type": "code",
   "execution_count": 4,
   "metadata": {},
   "outputs": [],
   "source": [
    "# all data will be converted into whole chiles\n",
    "data = data.astype(int)"
   ]
  },
  {
   "cell_type": "code",
   "execution_count": 5,
   "metadata": {},
   "outputs": [
    {
     "name": "stdout",
     "output_type": "stream",
     "text": [
      "<class 'pandas.core.frame.DataFrame'>\n",
      "RangeIndex: 5000 entries, 0 to 4999\n",
      "Data columns (total 5 columns):\n",
      " #   Column             Non-Null Count  Dtype\n",
      "---  ------             --------------  -----\n",
      " 0   Пол                5000 non-null   int64\n",
      " 1   Возраст            5000 non-null   int64\n",
      " 2   Зарплата           5000 non-null   int64\n",
      " 3   Члены семьи        5000 non-null   int64\n",
      " 4   Страховые выплаты  5000 non-null   int64\n",
      "dtypes: int64(5)\n",
      "memory usage: 195.4 KB\n"
     ]
    }
   ],
   "source": [
    "data.info()"
   ]
  },
  {
   "cell_type": "code",
   "execution_count": 6,
   "metadata": {},
   "outputs": [
    {
     "name": "stdout",
     "output_type": "stream",
     "text": [
      "Признаки (5000, 4)\n",
      "Целевой признак (5000,)\n"
     ]
    }
   ],
   "source": [
    "#select the features and the target feature\n",
    "features = data.drop('Insurance payments', axis=1)\n",
    "target = data['Insurance payments']\n",
    "print('Features', features.shape)\n",
    "print('Target', target.shape)"
   ]
  },
  {
   "cell_type": "markdown",
   "metadata": {},
   "source": [
    "<div class=\"alert alert-info\" style=\"border:solid blue 2px; padding: 20px\"> <b>Conclusion:</b> Good quality data. The dataset has 5 columns and 5000 rows. All data resulted in int. Highlighted the signs and the target sign.</div>"
   ]
  },
  {
   "cell_type": "markdown",
   "metadata": {},
   "source": [
    "## 2. Matrix multiplication"
   ]
  },
  {
   "cell_type": "markdown",
   "metadata": {},
   "source": [
    "Legend:\n",
    "\n",
    "- $ X $ - matrix of features (zero column consists of ones)\n",
    "\n",
    "- $ y $ - target feature vector\n",
    "\n",
    "- $ P $ - matrix by which the features are multiplied\n",
    "\n",
    "- $ w $ - vector of linear regression weights (zero element is equal to shift)"
   ]
  },
  {
   "cell_type": "markdown",
   "metadata": {},
   "source": [
    "Predictions:\n",
    "\n",
    "$$\n",
    "a = Xw\n",
    "$$\n",
    "\n",
    "Learning Objective:\n",
    "\n",
    "$$\n",
    "w = \\ arg \\ min_w MSE (Xw, y)\n",
    "$$\n",
    "\n",
    "Learning formula:\n",
    "\n",
    "$$\n",
    "w = (X ^ T X) ^ {- 1} X ^ T y\n",
    "$$"
   ]
  },
  {
   "cell_type": "markdown",
   "metadata": {},
   "source": [
    "**Answer:** will not change\n",
    "\n",
    "**Rationale:** Linear regression is a regression model with a linear function of the dependence of one variable y on another or several other variables x. Linear regression assumes that there are no random model errors. Those. the same variance is present. Because a matrix multiplied by an invertible matrix results in the identity matrix. Accordingly, we will receive the same predictions and, accordingly, the same quality."
   ]
  },
  {
   "cell_type": "markdown",
   "metadata": {},
   "source": [
    "## 3. Conversion Algorithm"
   ]
  },
  {
   "cell_type": "markdown",
   "metadata": {},
   "source": [
    "**Algorithm**\n",
    "\n",
    "if X is the matrix of features, and P is the matrix by which the features are multiplied, then multiplying these matrices we get the matrix ХР. Accordingly, the learning formula will look like this: $$\n",
    "w = (XP ^ T XP) ^ {- 1} XP ^ T y\n",
    "$$"
   ]
  },
  {
   "cell_type": "markdown",
   "metadata": {},
   "source": [
    "**Rationale**\n",
    "\n",
    "given the formula above, calculate the predictions using the math rules: $$\n",
    "a = XPw\n",
    "$$"
   ]
  },
  {
   "cell_type": "markdown",
   "metadata": {},
   "source": [
    "$\n",
    "a = XP((XP^T XP)^{-1} XP^T y)=XP(P^TX^TXP)^{-1}P^TX^Ty=XP(X^TXP)^{-1}(P^T)^{-1}P^TX^Ty=XPP^{-1}(X^TX)^{-1}(P^T)^{-1}P^TX^Ty=X(X^TX)^{-1}X^Ty=Xw=>a\n",
    "$"
   ]
  },
  {
   "cell_type": "markdown",
   "metadata": {},
   "source": [
    "$ PP ^ {- 1}, P ^ T (P ^ T) ^ {- 1} $ are matrices and its invertible matrices. We exclude, since as a result of multiplication, they give the E-unit matrix"
   ]
  },
  {
   "cell_type": "markdown",
   "metadata": {},
   "source": [
    "<div class=\"alert alert-info\" style=\"border:solid blue 2px; padding: 20px\"> <b>Conclusion:</b> Concluding from our solution: predictions will not change. Let's calculate the quality of the model with the original data and with new ones (matrix multiplication). To do this, we turn the data into a matrix, multiply the matrices and return the data back to the DataFrame format. Let's train the model and compare the quality with the r2_score metric</div>"
   ]
  },
  {
   "cell_type": "markdown",
   "metadata": {},
   "source": [
    "## 4. Algorithm check"
   ]
  },
  {
   "cell_type": "code",
   "execution_count": 7,
   "metadata": {},
   "outputs": [
    {
     "name": "stdout",
     "output_type": "stream",
     "text": [
      "[[    1    41 49600     1]\n",
      " [    0    46 38000     1]\n",
      " [    0    29 21000     0]\n",
      " ...\n",
      " [    0    20 33900     2]\n",
      " [    1    22 32700     3]\n",
      " [    1    28 40600     1]]\n"
     ]
    }
   ],
   "source": [
    "#turn features into a matrix\n",
    "matrix_features = features.values\n",
    "print(matrix_features)"
   ]
  },
  {
   "cell_type": "code",
   "execution_count": 8,
   "metadata": {},
   "outputs": [
    {
     "name": "stdout",
     "output_type": "stream",
     "text": [
      "[[ 7.79281208e-04 -5.06698571e-06 -5.24393614e-09 -9.67517664e-06]\n",
      " [-5.06698571e-06  1.63619393e-06 -1.05347762e-09 -2.87048239e-06]\n",
      " [-5.24393614e-09 -1.05347762e-09  1.01259380e-12 -2.27826976e-09]\n",
      " [-9.67517664e-06 -2.87048239e-06 -2.27826976e-09  1.60298184e-04]]\n"
     ]
    }
   ],
   "source": [
    "# only a square matrix can become invertible (and we have it not square). and the determinant must not be == 0\n",
    "# so transpose the original matrix (get a matrix with 4 rows and 5000 columns), multiply by the original matrix\n",
    "# and get a square matrix. Since in the condition of the problem the original matrix must be multiplied by an invertible one, then\n",
    "# raise the product to the power (-1)\n",
    "# suppose the determinant! = 0\n",
    "matrix_inv = np.linalg.inv(matrix_features.T.dot(matrix_features))\n",
    "print(matrix_inv)"
   ]
  },
  {
   "cell_type": "code",
   "execution_count": 9,
   "metadata": {},
   "outputs": [
    {
     "name": "stdout",
     "output_type": "stream",
     "text": [
      "[[ 3.01760385e-04  6.89399278e-06 -4.90135848e-10 -8.00689513e-05]\n",
      " [-4.42026093e-04  3.23622886e-05 -1.22596759e-08 -5.83182574e-05]\n",
      " [-2.57065245e-04  2.53265938e-05 -9.28638122e-09 -1.31087654e-04]\n",
      " ...\n",
      " [-2.98459503e-04 -8.72997767e-06  8.70083791e-09  1.85953375e-04]\n",
      " [ 4.67305281e-04 -1.21308848e-05 -2.14343580e-09  3.33569341e-04]\n",
      " [ 4.14826624e-04 -4.89522965e-06  4.09172903e-09 -2.22482523e-05]]\n"
     ]
    }
   ],
   "source": [
    "#multiply the original matrix by the invertible\n",
    "matrix=matrix_features.dot(matrix_inv)\n",
    "print(matrix)"
   ]
  },
  {
   "cell_type": "code",
   "execution_count": 10,
   "metadata": {},
   "outputs": [
    {
     "data": {
      "text/html": [
       "<div>\n",
       "<style scoped>\n",
       "    .dataframe tbody tr th:only-of-type {\n",
       "        vertical-align: middle;\n",
       "    }\n",
       "\n",
       "    .dataframe tbody tr th {\n",
       "        vertical-align: top;\n",
       "    }\n",
       "\n",
       "    .dataframe thead th {\n",
       "        text-align: right;\n",
       "    }\n",
       "</style>\n",
       "<table border=\"1\" class=\"dataframe\">\n",
       "  <thead>\n",
       "    <tr style=\"text-align: right;\">\n",
       "      <th></th>\n",
       "      <th>Пол</th>\n",
       "      <th>Возраст</th>\n",
       "      <th>Зарплата</th>\n",
       "      <th>Члены семьи</th>\n",
       "    </tr>\n",
       "  </thead>\n",
       "  <tbody>\n",
       "    <tr>\n",
       "      <th>0</th>\n",
       "      <td>0.000302</td>\n",
       "      <td>0.000007</td>\n",
       "      <td>-4.901358e-10</td>\n",
       "      <td>-0.000080</td>\n",
       "    </tr>\n",
       "    <tr>\n",
       "      <th>1</th>\n",
       "      <td>-0.000442</td>\n",
       "      <td>0.000032</td>\n",
       "      <td>-1.225968e-08</td>\n",
       "      <td>-0.000058</td>\n",
       "    </tr>\n",
       "    <tr>\n",
       "      <th>2</th>\n",
       "      <td>-0.000257</td>\n",
       "      <td>0.000025</td>\n",
       "      <td>-9.286381e-09</td>\n",
       "      <td>-0.000131</td>\n",
       "    </tr>\n",
       "    <tr>\n",
       "      <th>3</th>\n",
       "      <td>-0.000344</td>\n",
       "      <td>-0.000015</td>\n",
       "      <td>1.554559e-08</td>\n",
       "      <td>0.000165</td>\n",
       "    </tr>\n",
       "    <tr>\n",
       "      <th>4</th>\n",
       "      <td>0.000501</td>\n",
       "      <td>0.000013</td>\n",
       "      <td>-8.312611e-09</td>\n",
       "      <td>-0.000150</td>\n",
       "    </tr>\n",
       "    <tr>\n",
       "      <th>...</th>\n",
       "      <td>...</td>\n",
       "      <td>...</td>\n",
       "      <td>...</td>\n",
       "      <td>...</td>\n",
       "    </tr>\n",
       "    <tr>\n",
       "      <th>4995</th>\n",
       "      <td>-0.000348</td>\n",
       "      <td>0.000002</td>\n",
       "      <td>2.095686e-09</td>\n",
       "      <td>0.000159</td>\n",
       "    </tr>\n",
       "    <tr>\n",
       "      <th>4996</th>\n",
       "      <td>-0.000457</td>\n",
       "      <td>-0.000002</td>\n",
       "      <td>1.496341e-08</td>\n",
       "      <td>-0.000057</td>\n",
       "    </tr>\n",
       "    <tr>\n",
       "      <th>4997</th>\n",
       "      <td>-0.000298</td>\n",
       "      <td>-0.000009</td>\n",
       "      <td>8.700838e-09</td>\n",
       "      <td>0.000186</td>\n",
       "    </tr>\n",
       "    <tr>\n",
       "      <th>4998</th>\n",
       "      <td>0.000467</td>\n",
       "      <td>-0.000012</td>\n",
       "      <td>-2.143436e-09</td>\n",
       "      <td>0.000334</td>\n",
       "    </tr>\n",
       "    <tr>\n",
       "      <th>4999</th>\n",
       "      <td>0.000415</td>\n",
       "      <td>-0.000005</td>\n",
       "      <td>4.091729e-09</td>\n",
       "      <td>-0.000022</td>\n",
       "    </tr>\n",
       "  </tbody>\n",
       "</table>\n",
       "<p>5000 rows × 4 columns</p>\n",
       "</div>"
      ],
      "text/plain": [
       "           Пол   Возраст      Зарплата  Члены семьи\n",
       "0     0.000302  0.000007 -4.901358e-10    -0.000080\n",
       "1    -0.000442  0.000032 -1.225968e-08    -0.000058\n",
       "2    -0.000257  0.000025 -9.286381e-09    -0.000131\n",
       "3    -0.000344 -0.000015  1.554559e-08     0.000165\n",
       "4     0.000501  0.000013 -8.312611e-09    -0.000150\n",
       "...        ...       ...           ...          ...\n",
       "4995 -0.000348  0.000002  2.095686e-09     0.000159\n",
       "4996 -0.000457 -0.000002  1.496341e-08    -0.000057\n",
       "4997 -0.000298 -0.000009  8.700838e-09     0.000186\n",
       "4998  0.000467 -0.000012 -2.143436e-09     0.000334\n",
       "4999  0.000415 -0.000005  4.091729e-09    -0.000022\n",
       "\n",
       "[5000 rows x 4 columns]"
      ]
     },
     "execution_count": 10,
     "metadata": {},
     "output_type": "execute_result"
    }
   ],
   "source": [
    "# get the table format\n",
    "features_2=pd.DataFrame(matrix, columns = features.columns)\n",
    "features_2"
   ]
  },
  {
   "cell_type": "code",
   "execution_count": 11,
   "metadata": {},
   "outputs": [
    {
     "name": "stdout",
     "output_type": "stream",
     "text": [
      "<class 'pandas.core.frame.DataFrame'>\n",
      "RangeIndex: 5000 entries, 0 to 4999\n",
      "Data columns (total 4 columns):\n",
      " #   Column       Non-Null Count  Dtype  \n",
      "---  ------       --------------  -----  \n",
      " 0   Пол          5000 non-null   float64\n",
      " 1   Возраст      5000 non-null   float64\n",
      " 2   Зарплата     5000 non-null   float64\n",
      " 3   Члены семьи  5000 non-null   float64\n",
      "dtypes: float64(4)\n",
      "memory usage: 156.4 KB\n"
     ]
    }
   ],
   "source": [
    "#let's check that we got a dataframe with the same structure as the original features\n",
    "features_2.info()"
   ]
  },
  {
   "cell_type": "code",
   "execution_count": 12,
   "metadata": {},
   "outputs": [
    {
     "name": "stdout",
     "output_type": "stream",
     "text": [
      "R2_score исходных данных 0.42494550308169177\n"
     ]
    }
   ],
   "source": [
    "# check the quality of the model on the initial data\n",
    "model= LinearRegression(normalize=True)\n",
    "model.fit(features,target)\n",
    "predictions = model.predict(features)\n",
    "print('R2_score initial data',r2_score(target, predictions))\n"
   ]
  },
  {
   "cell_type": "code",
   "execution_count": 13,
   "metadata": {},
   "outputs": [
    {
     "name": "stdout",
     "output_type": "stream",
     "text": [
      "R2_score закодированных данных 0.42494550308169177\n"
     ]
    }
   ],
   "source": [
    "## check the quality of the model on the encoded data\n",
    "model= LinearRegression(normalize=True)\n",
    "model.fit(features_2,target)\n",
    "predictions_2 = model.predict(features_2)\n",
    "print('R2_score encoded data', r2_score(target, predictions_2))"
   ]
  },
  {
   "cell_type": "markdown",
   "metadata": {},
   "source": [
    "<div class=\"alert alert-info\" style=\"border:solid blue 2px; padding: 20px\"> <b>Conclusion:</b> Using matrix operations, we got a coded table with features. To return to the correct data, it is enough to multiply by an invertible matrix, since there is no division in matrices. Having trained the model on the initial data and on the encoded ones, we got the same value of the r2_score metric. Thus, we believe that our answer - 'the quality of the model will not change' - is proven. </div>"
   ]
  },
  {
   "cell_type": "code",
   "execution_count": null,
   "metadata": {},
   "outputs": [],
   "source": []
  }
 ],
 "metadata": {
  "kernelspec": {
   "display_name": "Python 3",
   "language": "python",
   "name": "python3"
  },
  "language_info": {
   "codemirror_mode": {
    "name": "ipython",
    "version": 3
   },
   "file_extension": ".py",
   "mimetype": "text/x-python",
   "name": "python",
   "nbconvert_exporter": "python",
   "pygments_lexer": "ipython3",
   "version": "3.8.5"
  }
 },
 "nbformat": 4,
 "nbformat_minor": 2
}
