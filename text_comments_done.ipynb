{
 "cells": [
  {
   "cell_type": "markdown",
   "metadata": {},
   "source": [
    "# Проект для \"Викишоп\" с BERT\n",
    "\n",
    "Интернет-магазин «Викишоп» запускает новый сервис. Теперь пользователи могут редактировать и дополнять описания товаров, как в вики-сообществах. То есть клиенты предлагают свои правки и комментируют изменения других. Магазину нужен инструмент, который будет искать токсичные комментарии и отправлять их на модерацию. \n",
    "\n",
    "Обучите модель классифицировать комментарии на позитивные и негативные. В вашем распоряжении набор данных с разметкой о токсичности правок.\n",
    "\n",
    "Постройте модель со значением метрики качества *F1* не меньше 0.75. \n",
    "\n",
    "### Инструкция по выполнению проекта\n",
    "\n",
    "1. Загрузите и подготовьте данные.\n",
    "2. Обучите разные модели. \n",
    "3. Сделайте выводы.\n",
    "\n",
    "Для выполнения проекта применять *BERT* необязательно, но вы можете попробовать.\n",
    "\n",
    "### Описание данных\n",
    "\n",
    "Данные находятся в файле `toxic_comments.csv`. Столбец *text* в нём содержит текст комментария, а *toxic* — целевой признак."
   ]
  },
  {
   "cell_type": "markdown",
   "metadata": {},
   "source": [
    "1. [Подготовка](#start)\n",
    "\n",
    "2. [Обучение](#model)\n",
    "\n",
    "3. [Выводы](#results)\n",
    "\n",
    "4. [BERT](#bert)\n",
    "\n"
   ]
  },
  {
   "cell_type": "markdown",
   "metadata": {},
   "source": [
    "<a id=\"start\"></a>\n",
    "# 1. Подготовка"
   ]
  },
  {
   "cell_type": "code",
   "execution_count": 1,
   "metadata": {},
   "outputs": [],
   "source": [
    "#pip install -U pip setuptools wheel"
   ]
  },
  {
   "cell_type": "code",
   "execution_count": 2,
   "metadata": {},
   "outputs": [],
   "source": [
    "#pip install -U spacy"
   ]
  },
  {
   "cell_type": "code",
   "execution_count": 3,
   "metadata": {},
   "outputs": [],
   "source": [
    "#pip install pymystem3"
   ]
  },
  {
   "cell_type": "code",
   "execution_count": 4,
   "metadata": {},
   "outputs": [],
   "source": [
    "#pip install torch"
   ]
  },
  {
   "cell_type": "code",
   "execution_count": 5,
   "metadata": {},
   "outputs": [],
   "source": [
    "#pip install transformers"
   ]
  },
  {
   "cell_type": "code",
   "execution_count": 6,
   "metadata": {},
   "outputs": [],
   "source": [
    "#pip install eli5"
   ]
  },
  {
   "cell_type": "code",
   "execution_count": 1,
   "metadata": {},
   "outputs": [
    {
     "name": "stderr",
     "output_type": "stream",
     "text": [
      "/opt/conda/lib/python3.7/site-packages/statsmodels/tools/_testing.py:19: FutureWarning: pandas.util.testing is deprecated. Use the functions in the public API at pandas.testing instead.\n",
      "  import pandas.util.testing as tm\n",
      "[nltk_data] Downloading package wordnet to /home/jovyan/nltk_data...\n",
      "[nltk_data]   Package wordnet is already up-to-date!\n",
      "[nltk_data] Downloading package punkt to /home/jovyan/nltk_data...\n",
      "[nltk_data]   Package punkt is already up-to-date!\n",
      "[nltk_data] Downloading package stopwords to /home/jovyan/nltk_data...\n",
      "[nltk_data]   Package stopwords is already up-to-date!\n"
     ]
    }
   ],
   "source": [
    "import pandas as pd\n",
    "import numpy as np\n",
    "\n",
    "import matplotlib as plt\n",
    "import matplotlib.pyplot as plt\n",
    "import seaborn as sns\n",
    "\n",
    "import spacy\n",
    "from spacy.lang.en.stop_words import STOP_WORDS\n",
    "\n",
    "from pymystem3 import Mystem\n",
    "import re\n",
    "\n",
    "import nltk\n",
    "nltk.download('wordnet')\n",
    "nltk.download('punkt')\n",
    "nltk.download('stopwords')\n",
    "from nltk.corpus import stopwords as nltk_stopwords\n",
    "\n",
    "from nltk.stem import WordNetLemmatizer\n",
    "lematizer = WordNetLemmatizer()\n",
    "\n",
    "from sklearn.model_selection import train_test_split, GridSearchCV, StratifiedKFold\n",
    "from sklearn.model_selection import cross_val_score\n",
    "from sklearn.metrics import f1_score\n",
    "\n",
    "from sklearn.feature_extraction.text import TfidfVectorizer\n",
    "\n",
    "from sklearn.tree import DecisionTreeClassifier\n",
    "from sklearn.ensemble import RandomForestClassifier\n",
    "from sklearn.linear_model import LogisticRegression\n",
    "from catboost import CatBoostClassifier\n",
    "\n",
    "import torch\n",
    "import transformers\n",
    "from tqdm import notebook\n",
    "\n",
    "from transformers import BertTokenizer, BertModel, BertForMaskedLM\n",
    "\n",
    "import warnings\n",
    "warnings.filterwarnings(\"ignore\")"
   ]
  },
  {
   "cell_type": "code",
   "execution_count": 2,
   "metadata": {},
   "outputs": [
    {
     "data": {
      "text/html": [
       "<div>\n",
       "<style scoped>\n",
       "    .dataframe tbody tr th:only-of-type {\n",
       "        vertical-align: middle;\n",
       "    }\n",
       "\n",
       "    .dataframe tbody tr th {\n",
       "        vertical-align: top;\n",
       "    }\n",
       "\n",
       "    .dataframe thead th {\n",
       "        text-align: right;\n",
       "    }\n",
       "</style>\n",
       "<table border=\"1\" class=\"dataframe\">\n",
       "  <thead>\n",
       "    <tr style=\"text-align: right;\">\n",
       "      <th></th>\n",
       "      <th>text</th>\n",
       "      <th>toxic</th>\n",
       "    </tr>\n",
       "  </thead>\n",
       "  <tbody>\n",
       "    <tr>\n",
       "      <th>0</th>\n",
       "      <td>Explanation\\nWhy the edits made under my usern...</td>\n",
       "      <td>0</td>\n",
       "    </tr>\n",
       "    <tr>\n",
       "      <th>1</th>\n",
       "      <td>D'aww! He matches this background colour I'm s...</td>\n",
       "      <td>0</td>\n",
       "    </tr>\n",
       "    <tr>\n",
       "      <th>2</th>\n",
       "      <td>Hey man, I'm really not trying to edit war. It...</td>\n",
       "      <td>0</td>\n",
       "    </tr>\n",
       "    <tr>\n",
       "      <th>3</th>\n",
       "      <td>\"\\nMore\\nI can't make any real suggestions on ...</td>\n",
       "      <td>0</td>\n",
       "    </tr>\n",
       "    <tr>\n",
       "      <th>4</th>\n",
       "      <td>You, sir, are my hero. Any chance you remember...</td>\n",
       "      <td>0</td>\n",
       "    </tr>\n",
       "    <tr>\n",
       "      <th>...</th>\n",
       "      <td>...</td>\n",
       "      <td>...</td>\n",
       "    </tr>\n",
       "    <tr>\n",
       "      <th>159566</th>\n",
       "      <td>\":::::And for the second time of asking, when ...</td>\n",
       "      <td>0</td>\n",
       "    </tr>\n",
       "    <tr>\n",
       "      <th>159567</th>\n",
       "      <td>You should be ashamed of yourself \\n\\nThat is ...</td>\n",
       "      <td>0</td>\n",
       "    </tr>\n",
       "    <tr>\n",
       "      <th>159568</th>\n",
       "      <td>Spitzer \\n\\nUmm, theres no actual article for ...</td>\n",
       "      <td>0</td>\n",
       "    </tr>\n",
       "    <tr>\n",
       "      <th>159569</th>\n",
       "      <td>And it looks like it was actually you who put ...</td>\n",
       "      <td>0</td>\n",
       "    </tr>\n",
       "    <tr>\n",
       "      <th>159570</th>\n",
       "      <td>\"\\nAnd ... I really don't think you understand...</td>\n",
       "      <td>0</td>\n",
       "    </tr>\n",
       "  </tbody>\n",
       "</table>\n",
       "<p>159571 rows × 2 columns</p>\n",
       "</div>"
      ],
      "text/plain": [
       "                                                     text  toxic\n",
       "0       Explanation\\nWhy the edits made under my usern...      0\n",
       "1       D'aww! He matches this background colour I'm s...      0\n",
       "2       Hey man, I'm really not trying to edit war. It...      0\n",
       "3       \"\\nMore\\nI can't make any real suggestions on ...      0\n",
       "4       You, sir, are my hero. Any chance you remember...      0\n",
       "...                                                   ...    ...\n",
       "159566  \":::::And for the second time of asking, when ...      0\n",
       "159567  You should be ashamed of yourself \\n\\nThat is ...      0\n",
       "159568  Spitzer \\n\\nUmm, theres no actual article for ...      0\n",
       "159569  And it looks like it was actually you who put ...      0\n",
       "159570  \"\\nAnd ... I really don't think you understand...      0\n",
       "\n",
       "[159571 rows x 2 columns]"
      ]
     },
     "execution_count": 2,
     "metadata": {},
     "output_type": "execute_result"
    }
   ],
   "source": [
    "data=pd.read_csv('/datasets/toxic_comments.csv')\n",
    "data"
   ]
  },
  {
   "cell_type": "code",
   "execution_count": 3,
   "metadata": {},
   "outputs": [
    {
     "name": "stdout",
     "output_type": "stream",
     "text": [
      "<class 'pandas.core.frame.DataFrame'>\n",
      "RangeIndex: 159571 entries, 0 to 159570\n",
      "Data columns (total 2 columns):\n",
      " #   Column  Non-Null Count   Dtype \n",
      "---  ------  --------------   ----- \n",
      " 0   text    159571 non-null  object\n",
      " 1   toxic   159571 non-null  int64 \n",
      "dtypes: int64(1), object(1)\n",
      "memory usage: 2.4+ MB\n",
      "\n",
      "Количество пропусков:\n",
      "text     0\n",
      "toxic    0\n",
      "dtype: int64\n",
      "\n",
      "Количество полных дубликатов\n",
      "0\n",
      "\n"
     ]
    },
    {
     "data": {
      "image/png": "[encoded data removed]",
      "text/plain": [
       "<Figure size 432x288 with 1 Axes>"
      ]
     },
     "metadata": {
      "needs_background": "light"
     },
     "output_type": "display_data"
    }
   ],
   "source": [
    "def preparation(df):\n",
    "    df.info()\n",
    "    print()\n",
    "    print('Количество пропусков:')\n",
    "    print(df.isnull().sum())\n",
    "    print()\n",
    "    print('Количество полных дубликатов')\n",
    "    print(df.duplicated().sum())\n",
    "    print()\n",
    "    df['toxic'].value_counts().plot(kind='bar', title='Распределение по классам')\n",
    "    \n",
    "preparation(data)        "
   ]
  },
  {
   "cell_type": "markdown",
   "metadata": {},
   "source": [
    "<div class=\"alert alert-info\" style=\"border:solid blue 2px; padding: 20px\"> <b>Вывод:</b> Загрузили датасет, в нем 2 столбца и 159571 строка. Типы столбцов - верный. Пропусков нет, дубликатов нет. Наблюдается явный дисбаланс классов. \"0\" - не токсичный комментарий, \"1\" - токсичный. </div>"
   ]
  },
  {
   "cell_type": "code",
   "execution_count": 4,
   "metadata": {},
   "outputs": [
    {
     "data": {
      "text/plain": [
       "5000"
      ]
     },
     "execution_count": 4,
     "metadata": {},
     "output_type": "execute_result"
    }
   ],
   "source": [
    "#максимальная длина текста\n",
    "max_len = data['text'].str.len().max()\n",
    "max_len"
   ]
  },
  {
   "cell_type": "code",
   "execution_count": 5,
   "metadata": {},
   "outputs": [],
   "source": [
    "#количество слов в тексте\n",
    "data['word_count'] = data['text'].apply(lambda x: len(str(x).split()))"
   ]
  },
  {
   "cell_type": "code",
   "execution_count": 6,
   "metadata": {},
   "outputs": [],
   "source": [
    "#количество уникальных слов в тексте\n",
    "data['unique_word'] = data['text'].apply(lambda x: len(set(str(x).split())))"
   ]
  },
  {
   "cell_type": "code",
   "execution_count": 7,
   "metadata": {},
   "outputs": [],
   "source": [
    "#количество стоп-слов в тексте\n",
    "data['stop_word'] = data['text'].apply(lambda x: len([w for w in str(x).lower().split() if w in STOP_WORDS]))"
   ]
  },
  {
   "cell_type": "code",
   "execution_count": 8,
   "metadata": {},
   "outputs": [
    {
     "data": {
      "text/html": [
       "<div>\n",
       "<style scoped>\n",
       "    .dataframe tbody tr th:only-of-type {\n",
       "        vertical-align: middle;\n",
       "    }\n",
       "\n",
       "    .dataframe tbody tr th {\n",
       "        vertical-align: top;\n",
       "    }\n",
       "\n",
       "    .dataframe thead th {\n",
       "        text-align: right;\n",
       "    }\n",
       "</style>\n",
       "<table border=\"1\" class=\"dataframe\">\n",
       "  <thead>\n",
       "    <tr style=\"text-align: right;\">\n",
       "      <th></th>\n",
       "      <th>text</th>\n",
       "      <th>toxic</th>\n",
       "      <th>word_count</th>\n",
       "      <th>unique_word</th>\n",
       "      <th>stop_word</th>\n",
       "    </tr>\n",
       "  </thead>\n",
       "  <tbody>\n",
       "    <tr>\n",
       "      <th>0</th>\n",
       "      <td>Explanation\\nWhy the edits made under my usern...</td>\n",
       "      <td>0</td>\n",
       "      <td>43</td>\n",
       "      <td>41</td>\n",
       "      <td>19</td>\n",
       "    </tr>\n",
       "    <tr>\n",
       "      <th>1</th>\n",
       "      <td>D'aww! He matches this background colour I'm s...</td>\n",
       "      <td>0</td>\n",
       "      <td>17</td>\n",
       "      <td>17</td>\n",
       "      <td>2</td>\n",
       "    </tr>\n",
       "    <tr>\n",
       "      <th>2</th>\n",
       "      <td>Hey man, I'm really not trying to edit war. It...</td>\n",
       "      <td>0</td>\n",
       "      <td>42</td>\n",
       "      <td>39</td>\n",
       "      <td>21</td>\n",
       "    </tr>\n",
       "    <tr>\n",
       "      <th>3</th>\n",
       "      <td>\"\\nMore\\nI can't make any real suggestions on ...</td>\n",
       "      <td>0</td>\n",
       "      <td>113</td>\n",
       "      <td>82</td>\n",
       "      <td>61</td>\n",
       "    </tr>\n",
       "    <tr>\n",
       "      <th>4</th>\n",
       "      <td>You, sir, are my hero. Any chance you remember...</td>\n",
       "      <td>0</td>\n",
       "      <td>13</td>\n",
       "      <td>13</td>\n",
       "      <td>5</td>\n",
       "    </tr>\n",
       "    <tr>\n",
       "      <th>5</th>\n",
       "      <td>\"\\n\\nCongratulations from me as well, use the ...</td>\n",
       "      <td>0</td>\n",
       "      <td>13</td>\n",
       "      <td>12</td>\n",
       "      <td>4</td>\n",
       "    </tr>\n",
       "    <tr>\n",
       "      <th>6</th>\n",
       "      <td>COCKSUCKER BEFORE YOU PISS AROUND ON MY WORK</td>\n",
       "      <td>1</td>\n",
       "      <td>8</td>\n",
       "      <td>8</td>\n",
       "      <td>5</td>\n",
       "    </tr>\n",
       "    <tr>\n",
       "      <th>7</th>\n",
       "      <td>Your vandalism to the Matt Shirvington article...</td>\n",
       "      <td>0</td>\n",
       "      <td>20</td>\n",
       "      <td>20</td>\n",
       "      <td>12</td>\n",
       "    </tr>\n",
       "    <tr>\n",
       "      <th>8</th>\n",
       "      <td>Sorry if the word 'nonsense' was offensive to ...</td>\n",
       "      <td>0</td>\n",
       "      <td>83</td>\n",
       "      <td>70</td>\n",
       "      <td>48</td>\n",
       "    </tr>\n",
       "    <tr>\n",
       "      <th>9</th>\n",
       "      <td>alignment on this subject and which are contra...</td>\n",
       "      <td>0</td>\n",
       "      <td>12</td>\n",
       "      <td>12</td>\n",
       "      <td>8</td>\n",
       "    </tr>\n",
       "    <tr>\n",
       "      <th>10</th>\n",
       "      <td>\"\\nFair use rationale for Image:Wonju.jpg\\n\\nT...</td>\n",
       "      <td>0</td>\n",
       "      <td>494</td>\n",
       "      <td>221</td>\n",
       "      <td>249</td>\n",
       "    </tr>\n",
       "    <tr>\n",
       "      <th>11</th>\n",
       "      <td>bbq \\n\\nbe a man and lets discuss it-maybe ove...</td>\n",
       "      <td>0</td>\n",
       "      <td>11</td>\n",
       "      <td>11</td>\n",
       "      <td>5</td>\n",
       "    </tr>\n",
       "    <tr>\n",
       "      <th>12</th>\n",
       "      <td>Hey... what is it..\\n@ | talk .\\nWhat is it......</td>\n",
       "      <td>1</td>\n",
       "      <td>53</td>\n",
       "      <td>50</td>\n",
       "      <td>23</td>\n",
       "    </tr>\n",
       "    <tr>\n",
       "      <th>13</th>\n",
       "      <td>Before you start throwing accusations and warn...</td>\n",
       "      <td>0</td>\n",
       "      <td>142</td>\n",
       "      <td>108</td>\n",
       "      <td>74</td>\n",
       "    </tr>\n",
       "    <tr>\n",
       "      <th>14</th>\n",
       "      <td>Oh, and the girl above started her arguments w...</td>\n",
       "      <td>0</td>\n",
       "      <td>39</td>\n",
       "      <td>31</td>\n",
       "      <td>21</td>\n",
       "    </tr>\n",
       "    <tr>\n",
       "      <th>15</th>\n",
       "      <td>\"\\n\\nJuelz Santanas Age\\n\\nIn 2002, Juelz Sant...</td>\n",
       "      <td>0</td>\n",
       "      <td>118</td>\n",
       "      <td>93</td>\n",
       "      <td>51</td>\n",
       "    </tr>\n",
       "    <tr>\n",
       "      <th>16</th>\n",
       "      <td>Bye! \\n\\nDon't look, come or think of comming ...</td>\n",
       "      <td>1</td>\n",
       "      <td>10</td>\n",
       "      <td>10</td>\n",
       "      <td>2</td>\n",
       "    </tr>\n",
       "    <tr>\n",
       "      <th>17</th>\n",
       "      <td>REDIRECT Talk:Voydan Pop Georgiev- Chernodrinski</td>\n",
       "      <td>0</td>\n",
       "      <td>5</td>\n",
       "      <td>5</td>\n",
       "      <td>0</td>\n",
       "    </tr>\n",
       "    <tr>\n",
       "      <th>18</th>\n",
       "      <td>The Mitsurugi point made no sense - why not ar...</td>\n",
       "      <td>0</td>\n",
       "      <td>21</td>\n",
       "      <td>19</td>\n",
       "      <td>9</td>\n",
       "    </tr>\n",
       "    <tr>\n",
       "      <th>19</th>\n",
       "      <td>Don't mean to bother you \\n\\nI see that you're...</td>\n",
       "      <td>0</td>\n",
       "      <td>81</td>\n",
       "      <td>62</td>\n",
       "      <td>50</td>\n",
       "    </tr>\n",
       "  </tbody>\n",
       "</table>\n",
       "</div>"
      ],
      "text/plain": [
       "                                                 text  toxic  word_count  \\\n",
       "0   Explanation\\nWhy the edits made under my usern...      0          43   \n",
       "1   D'aww! He matches this background colour I'm s...      0          17   \n",
       "2   Hey man, I'm really not trying to edit war. It...      0          42   \n",
       "3   \"\\nMore\\nI can't make any real suggestions on ...      0         113   \n",
       "4   You, sir, are my hero. Any chance you remember...      0          13   \n",
       "5   \"\\n\\nCongratulations from me as well, use the ...      0          13   \n",
       "6        COCKSUCKER BEFORE YOU PISS AROUND ON MY WORK      1           8   \n",
       "7   Your vandalism to the Matt Shirvington article...      0          20   \n",
       "8   Sorry if the word 'nonsense' was offensive to ...      0          83   \n",
       "9   alignment on this subject and which are contra...      0          12   \n",
       "10  \"\\nFair use rationale for Image:Wonju.jpg\\n\\nT...      0         494   \n",
       "11  bbq \\n\\nbe a man and lets discuss it-maybe ove...      0          11   \n",
       "12  Hey... what is it..\\n@ | talk .\\nWhat is it......      1          53   \n",
       "13  Before you start throwing accusations and warn...      0         142   \n",
       "14  Oh, and the girl above started her arguments w...      0          39   \n",
       "15  \"\\n\\nJuelz Santanas Age\\n\\nIn 2002, Juelz Sant...      0         118   \n",
       "16  Bye! \\n\\nDon't look, come or think of comming ...      1          10   \n",
       "17   REDIRECT Talk:Voydan Pop Georgiev- Chernodrinski      0           5   \n",
       "18  The Mitsurugi point made no sense - why not ar...      0          21   \n",
       "19  Don't mean to bother you \\n\\nI see that you're...      0          81   \n",
       "\n",
       "    unique_word  stop_word  \n",
       "0            41         19  \n",
       "1            17          2  \n",
       "2            39         21  \n",
       "3            82         61  \n",
       "4            13          5  \n",
       "5            12          4  \n",
       "6             8          5  \n",
       "7            20         12  \n",
       "8            70         48  \n",
       "9            12          8  \n",
       "10          221        249  \n",
       "11           11          5  \n",
       "12           50         23  \n",
       "13          108         74  \n",
       "14           31         21  \n",
       "15           93         51  \n",
       "16           10          2  \n",
       "17            5          0  \n",
       "18           19          9  \n",
       "19           62         50  "
      ]
     },
     "execution_count": 8,
     "metadata": {},
     "output_type": "execute_result"
    }
   ],
   "source": [
    "data.head(20)"
   ]
  },
  {
   "cell_type": "code",
   "execution_count": 9,
   "metadata": {},
   "outputs": [
    {
     "data": {
      "image/png": "[encoded data removed]",
      "text/plain": [
       "<Figure size 432x288 with 1 Axes>"
      ]
     },
     "metadata": {
      "needs_background": "light"
     },
     "output_type": "display_data"
    }
   ],
   "source": [
    "ax = data.groupby('toxic')['unique_word'].plot(legend = True, title = 'Уникальные слова')"
   ]
  },
  {
   "cell_type": "code",
   "execution_count": 10,
   "metadata": {},
   "outputs": [
    {
     "data": {
      "image/png": "[encoded data removed]",
      "text/plain": [
       "<Figure size 432x288 with 1 Axes>"
      ]
     },
     "metadata": {
      "needs_background": "light"
     },
     "output_type": "display_data"
    }
   ],
   "source": [
    "bx = data.groupby('toxic')['stop_word'].plot(legend = True, title = 'стоп-слова')"
   ]
  },
  {
   "cell_type": "code",
   "execution_count": 11,
   "metadata": {},
   "outputs": [
    {
     "data": {
      "image/png": "[encoded data removed]",
      "text/plain": [
       "<Figure size 432x288 with 1 Axes>"
      ]
     },
     "metadata": {
      "needs_background": "light"
     },
     "output_type": "display_data"
    }
   ],
   "source": [
    "cx = data.groupby('toxic')['word_count'].plot(legend = True, title = 'количество слов')"
   ]
  },
  {
   "cell_type": "markdown",
   "metadata": {},
   "source": [
    "<div class=\"alert alert-info\" style=\"border:solid blue 2px; padding: 20px\"> <b>Вывод:</b> Вычислили max длину текста - 5000 символов, посмотрели на распределение уникальных и стоп-слов в тексте. Можно сделать вывод, что токсичные комментарии чуть короче не токсичных. В токсичных - больше стоп-слов и меньше уникальных слов.</div>"
   ]
  },
  {
   "cell_type": "code",
   "execution_count": 12,
   "metadata": {},
   "outputs": [],
   "source": [
    "#очистим текст от символов \n",
    "def clean_text(text):\n",
    "    \n",
    "    text = text.lower()    \n",
    "    text = re.sub(r\"(?:\\n|\\r)\", \" \", text)\n",
    "    text = re.sub(r\"[^a-zA-Z ]+\", \"\", text).strip()\n",
    "    \n",
    "    return text\n",
    "\n",
    "data['clean_text'] = data['text'].astype('U').apply(clean_text)"
   ]
  },
  {
   "cell_type": "code",
   "execution_count": 13,
   "metadata": {},
   "outputs": [],
   "source": [
    "#лемматизируем текст\n",
    "def lemmatize(text):\n",
    "    lemm_list = nltk.word_tokenize(text)\n",
    "    lemm_text = \" \".join(lemm_list)\n",
    "    return lemm_text\n",
    "\n",
    "data['good_text'] = data['clean_text'].apply(lemmatize) "
   ]
  },
  {
   "cell_type": "code",
   "execution_count": 14,
   "metadata": {},
   "outputs": [
    {
     "data": {
      "text/html": [
       "<div>\n",
       "<style scoped>\n",
       "    .dataframe tbody tr th:only-of-type {\n",
       "        vertical-align: middle;\n",
       "    }\n",
       "\n",
       "    .dataframe tbody tr th {\n",
       "        vertical-align: top;\n",
       "    }\n",
       "\n",
       "    .dataframe thead th {\n",
       "        text-align: right;\n",
       "    }\n",
       "</style>\n",
       "<table border=\"1\" class=\"dataframe\">\n",
       "  <thead>\n",
       "    <tr style=\"text-align: right;\">\n",
       "      <th></th>\n",
       "      <th>text</th>\n",
       "      <th>toxic</th>\n",
       "      <th>good_text</th>\n",
       "    </tr>\n",
       "  </thead>\n",
       "  <tbody>\n",
       "    <tr>\n",
       "      <th>0</th>\n",
       "      <td>Explanation\\nWhy the edits made under my usern...</td>\n",
       "      <td>0</td>\n",
       "      <td>explanation why the edits made under my userna...</td>\n",
       "    </tr>\n",
       "    <tr>\n",
       "      <th>1</th>\n",
       "      <td>D'aww! He matches this background colour I'm s...</td>\n",
       "      <td>0</td>\n",
       "      <td>daww he matches this background colour im seem...</td>\n",
       "    </tr>\n",
       "    <tr>\n",
       "      <th>2</th>\n",
       "      <td>Hey man, I'm really not trying to edit war. It...</td>\n",
       "      <td>0</td>\n",
       "      <td>hey man im really not trying to edit war its j...</td>\n",
       "    </tr>\n",
       "    <tr>\n",
       "      <th>3</th>\n",
       "      <td>\"\\nMore\\nI can't make any real suggestions on ...</td>\n",
       "      <td>0</td>\n",
       "      <td>more i cant make any real suggestions on impro...</td>\n",
       "    </tr>\n",
       "    <tr>\n",
       "      <th>4</th>\n",
       "      <td>You, sir, are my hero. Any chance you remember...</td>\n",
       "      <td>0</td>\n",
       "      <td>you sir are my hero any chance you remember wh...</td>\n",
       "    </tr>\n",
       "    <tr>\n",
       "      <th>5</th>\n",
       "      <td>\"\\n\\nCongratulations from me as well, use the ...</td>\n",
       "      <td>0</td>\n",
       "      <td>congratulations from me as well use the tools ...</td>\n",
       "    </tr>\n",
       "    <tr>\n",
       "      <th>6</th>\n",
       "      <td>COCKSUCKER BEFORE YOU PISS AROUND ON MY WORK</td>\n",
       "      <td>1</td>\n",
       "      <td>cocksucker before you piss around on my work</td>\n",
       "    </tr>\n",
       "    <tr>\n",
       "      <th>7</th>\n",
       "      <td>Your vandalism to the Matt Shirvington article...</td>\n",
       "      <td>0</td>\n",
       "      <td>your vandalism to the matt shirvington article...</td>\n",
       "    </tr>\n",
       "    <tr>\n",
       "      <th>8</th>\n",
       "      <td>Sorry if the word 'nonsense' was offensive to ...</td>\n",
       "      <td>0</td>\n",
       "      <td>sorry if the word nonsense was offensive to yo...</td>\n",
       "    </tr>\n",
       "    <tr>\n",
       "      <th>9</th>\n",
       "      <td>alignment on this subject and which are contra...</td>\n",
       "      <td>0</td>\n",
       "      <td>alignment on this subject and which are contra...</td>\n",
       "    </tr>\n",
       "  </tbody>\n",
       "</table>\n",
       "</div>"
      ],
      "text/plain": [
       "                                                text  toxic  \\\n",
       "0  Explanation\\nWhy the edits made under my usern...      0   \n",
       "1  D'aww! He matches this background colour I'm s...      0   \n",
       "2  Hey man, I'm really not trying to edit war. It...      0   \n",
       "3  \"\\nMore\\nI can't make any real suggestions on ...      0   \n",
       "4  You, sir, are my hero. Any chance you remember...      0   \n",
       "5  \"\\n\\nCongratulations from me as well, use the ...      0   \n",
       "6       COCKSUCKER BEFORE YOU PISS AROUND ON MY WORK      1   \n",
       "7  Your vandalism to the Matt Shirvington article...      0   \n",
       "8  Sorry if the word 'nonsense' was offensive to ...      0   \n",
       "9  alignment on this subject and which are contra...      0   \n",
       "\n",
       "                                           good_text  \n",
       "0  explanation why the edits made under my userna...  \n",
       "1  daww he matches this background colour im seem...  \n",
       "2  hey man im really not trying to edit war its j...  \n",
       "3  more i cant make any real suggestions on impro...  \n",
       "4  you sir are my hero any chance you remember wh...  \n",
       "5  congratulations from me as well use the tools ...  \n",
       "6       cocksucker before you piss around on my work  \n",
       "7  your vandalism to the matt shirvington article...  \n",
       "8  sorry if the word nonsense was offensive to yo...  \n",
       "9  alignment on this subject and which are contra...  "
      ]
     },
     "execution_count": 14,
     "metadata": {},
     "output_type": "execute_result"
    }
   ],
   "source": [
    "data.drop(['clean_text', 'unique_word', 'stop_word', 'word_count'], axis =1).head(10)"
   ]
  },
  {
   "cell_type": "markdown",
   "metadata": {},
   "source": [
    "<div class=\"alert alert-info\" style=\"border:solid blue 2px; padding: 20px\"> <b>Вывод:</b> Подготовили текст для дальнейшей работы: очистили от символов, привели к нижнему регистру и к начальной форме слова.</div>"
   ]
  },
  {
   "cell_type": "markdown",
   "metadata": {},
   "source": [
    "<a id=\"model\"></a>\n",
    "# 2. Обучение"
   ]
  },
  {
   "cell_type": "code",
   "execution_count": 15,
   "metadata": {},
   "outputs": [],
   "source": [
    "#выделим признаки и целевой признак, разделим на выборки\n",
    "features = data['good_text'].astype('U').values\n",
    "target = data['toxic']\n",
    "\n",
    "\n",
    "features_train, features_2, target_train, target_2 = train_test_split(features, target,\n",
    "                                                    shuffle=True,\n",
    "                                                    test_size=0.4,\n",
    "                                                    random_state=90)\n",
    "\n",
    "features_valid, features_test, target_valid, target_test = train_test_split(features_2, target_2,\n",
    "                                                                 shuffle=True,\n",
    "                                                                 test_size=0.5,\n",
    "                                                                 random_state=90)"
   ]
  },
  {
   "cell_type": "code",
   "execution_count": 16,
   "metadata": {},
   "outputs": [],
   "source": [
    "#проведем оценку важности слова и укажем стоп-слова\n",
    "stopwords = set(nltk_stopwords.words('english'))\n",
    "count_tf_idf = TfidfVectorizer(stop_words = stopwords, ngram_range=(1, 1))\n",
    "tf_idf_train = count_tf_idf.fit_transform(features_train)\n",
    "\n",
    "tf_idf_valid = count_tf_idf.transform(features_valid)\n",
    "\n",
    "tf_idf_test = count_tf_idf.transform(features_test)"
   ]
  },
  {
   "cell_type": "code",
   "execution_count": 17,
   "metadata": {},
   "outputs": [
    {
     "name": "stdout",
     "output_type": "stream",
     "text": [
      "Обучающая выборка (95742, 160170)\n",
      "Валидационная выборка (31914, 160170)\n",
      "Тестовая выборка (31915, 160170)\n"
     ]
    }
   ],
   "source": [
    "print('Обучающая выборка', tf_idf_train.shape)\n",
    "print('Валидационная выборка', tf_idf_valid.shape)\n",
    "print('Тестовая выборка', tf_idf_test.shape)"
   ]
  },
  {
   "cell_type": "code",
   "execution_count": 18,
   "metadata": {},
   "outputs": [
    {
     "name": "stdout",
     "output_type": "stream",
     "text": [
      "best_C: 160\n",
      "CPU times: user 59.7 s, sys: 46 s, total: 1min 45s\n",
      "Wall time: 1min 45s\n"
     ]
    }
   ],
   "source": [
    "%%time\n",
    "# модель LogisticRegression\n",
    "\n",
    "#Если я указываю class_weight = 'balanced', значение метрики ухудшается\n",
    "best_result=1\n",
    "best_C=0\n",
    "\n",
    "for c in range(10,200,50):\n",
    "    model_lr=LogisticRegression(random_state=90, solver='liblinear', C=c)\n",
    "    model_lr.fit(tf_idf_train, target_train)\n",
    "    predictions_valid=model_lr.predict(tf_idf_valid)\n",
    "    result_lr=f1_score(target_valid,predictions_valid)\n",
    "    if result_lr<best_result:\n",
    "        best_result=result_lr\n",
    "        best_C= c\n",
    "            \n",
    "            \n",
    "print('best_C:', best_C)  "
   ]
  },
  {
   "cell_type": "code",
   "execution_count": 19,
   "metadata": {},
   "outputs": [
    {
     "name": "stdout",
     "output_type": "stream",
     "text": [
      "f1_score 0.7627567925778661\n",
      "CPU times: user 18.8 s, sys: 14.7 s, total: 33.6 s\n",
      "Wall time: 33.6 s\n"
     ]
    }
   ],
   "source": [
    "%%time\n",
    "\n",
    "model_lr=LogisticRegression(random_state=90, solver='liblinear', C=160)\n",
    "model_lr.fit(tf_idf_train, target_train)\n",
    "predict_lr=model_lr.predict(tf_idf_valid)\n",
    "result_lr = f1_score(target_valid,predict_lr)\n",
    "print('f1_score', result_lr) "
   ]
  },
  {
   "cell_type": "code",
   "execution_count": 20,
   "metadata": {},
   "outputs": [
    {
     "name": "stdout",
     "output_type": "stream",
     "text": [
      "f1_score 0.579454926624738\n",
      "CPU times: user 6.03 s, sys: 0 ns, total: 6.03 s\n",
      "Wall time: 6.15 s\n"
     ]
    }
   ],
   "source": [
    "%%time\n",
    "# модель \"DecisionTreeClassifier\" \n",
    "\n",
    "#Если я указываю class_weight = 'balanced', значение метрики ухудшается\n",
    "\n",
    "model_tree=DecisionTreeClassifier(random_state=90, max_depth=9)\n",
    "model_tree.fit(tf_idf_train, target_train)\n",
    "predict_tree=model_tree.predict(tf_idf_valid)\n",
    "result_tree = f1_score(target_valid,predict_tree)\n",
    "\n",
    "print('f1_score', result_tree)  "
   ]
  },
  {
   "cell_type": "code",
   "execution_count": 21,
   "metadata": {},
   "outputs": [
    {
     "name": "stdout",
     "output_type": "stream",
     "text": [
      "Fitting 3 folds for each of 12 candidates, totalling 36 fits\n",
      "[CV 1/3; 1/12] START max_depth=2, n_estimators=1................................\n",
      "[CV 1/3; 1/12] END ..............max_depth=2, n_estimators=1; total time=   0.2s\n",
      "[CV 2/3; 1/12] START max_depth=2, n_estimators=1................................\n",
      "[CV 2/3; 1/12] END ..............max_depth=2, n_estimators=1; total time=   0.2s\n",
      "[CV 3/3; 1/12] START max_depth=2, n_estimators=1................................\n",
      "[CV 3/3; 1/12] END ..............max_depth=2, n_estimators=1; total time=   0.2s\n",
      "[CV 1/3; 2/12] START max_depth=2, n_estimators=51...............................\n",
      "[CV 1/3; 2/12] END .............max_depth=2, n_estimators=51; total time=   2.3s\n",
      "[CV 2/3; 2/12] START max_depth=2, n_estimators=51...............................\n",
      "[CV 2/3; 2/12] END .............max_depth=2, n_estimators=51; total time=   2.2s\n",
      "[CV 3/3; 2/12] START max_depth=2, n_estimators=51...............................\n",
      "[CV 3/3; 2/12] END .............max_depth=2, n_estimators=51; total time=   2.3s\n",
      "[CV 1/3; 3/12] START max_depth=2, n_estimators=101..............................\n",
      "[CV 1/3; 3/12] END ............max_depth=2, n_estimators=101; total time=   4.3s\n",
      "[CV 2/3; 3/12] START max_depth=2, n_estimators=101..............................\n",
      "[CV 2/3; 3/12] END ............max_depth=2, n_estimators=101; total time=   4.2s\n",
      "[CV 3/3; 3/12] START max_depth=2, n_estimators=101..............................\n",
      "[CV 3/3; 3/12] END ............max_depth=2, n_estimators=101; total time=   4.4s\n",
      "[CV 1/3; 4/12] START max_depth=2, n_estimators=151..............................\n",
      "[CV 1/3; 4/12] END ............max_depth=2, n_estimators=151; total time=   7.1s\n",
      "[CV 2/3; 4/12] START max_depth=2, n_estimators=151..............................\n",
      "[CV 2/3; 4/12] END ............max_depth=2, n_estimators=151; total time=   7.6s\n",
      "[CV 3/3; 4/12] START max_depth=2, n_estimators=151..............................\n",
      "[CV 3/3; 4/12] END ............max_depth=2, n_estimators=151; total time=   7.3s\n",
      "[CV 1/3; 5/12] START max_depth=3, n_estimators=1................................\n",
      "[CV 1/3; 5/12] END ..............max_depth=3, n_estimators=1; total time=   0.3s\n",
      "[CV 2/3; 5/12] START max_depth=3, n_estimators=1................................\n",
      "[CV 2/3; 5/12] END ..............max_depth=3, n_estimators=1; total time=   0.3s\n",
      "[CV 3/3; 5/12] START max_depth=3, n_estimators=1................................\n",
      "[CV 3/3; 5/12] END ..............max_depth=3, n_estimators=1; total time=   0.3s\n",
      "[CV 1/3; 6/12] START max_depth=3, n_estimators=51...............................\n",
      "[CV 1/3; 6/12] END .............max_depth=3, n_estimators=51; total time=   3.0s\n",
      "[CV 2/3; 6/12] START max_depth=3, n_estimators=51...............................\n",
      "[CV 2/3; 6/12] END .............max_depth=3, n_estimators=51; total time=   2.9s\n",
      "[CV 3/3; 6/12] START max_depth=3, n_estimators=51...............................\n",
      "[CV 3/3; 6/12] END .............max_depth=3, n_estimators=51; total time=   2.9s\n",
      "[CV 1/3; 7/12] START max_depth=3, n_estimators=101..............................\n",
      "[CV 1/3; 7/12] END ............max_depth=3, n_estimators=101; total time=   5.7s\n",
      "[CV 2/3; 7/12] START max_depth=3, n_estimators=101..............................\n",
      "[CV 2/3; 7/12] END ............max_depth=3, n_estimators=101; total time=   5.6s\n",
      "[CV 3/3; 7/12] START max_depth=3, n_estimators=101..............................\n",
      "[CV 3/3; 7/12] END ............max_depth=3, n_estimators=101; total time=   5.7s\n",
      "[CV 1/3; 8/12] START max_depth=3, n_estimators=151..............................\n",
      "[CV 1/3; 8/12] END ............max_depth=3, n_estimators=151; total time=   8.2s\n",
      "[CV 2/3; 8/12] START max_depth=3, n_estimators=151..............................\n",
      "[CV 2/3; 8/12] END ............max_depth=3, n_estimators=151; total time=   8.5s\n",
      "[CV 3/3; 8/12] START max_depth=3, n_estimators=151..............................\n",
      "[CV 3/3; 8/12] END ............max_depth=3, n_estimators=151; total time=   8.3s\n",
      "[CV 1/3; 9/12] START max_depth=4, n_estimators=1................................\n",
      "[CV 1/3; 9/12] END ..............max_depth=4, n_estimators=1; total time=   0.3s\n",
      "[CV 2/3; 9/12] START max_depth=4, n_estimators=1................................\n",
      "[CV 2/3; 9/12] END ..............max_depth=4, n_estimators=1; total time=   0.3s\n",
      "[CV 3/3; 9/12] START max_depth=4, n_estimators=1................................\n",
      "[CV 3/3; 9/12] END ..............max_depth=4, n_estimators=1; total time=   0.3s\n",
      "[CV 1/3; 10/12] START max_depth=4, n_estimators=51..............................\n",
      "[CV 1/3; 10/12] END ............max_depth=4, n_estimators=51; total time=   3.7s\n",
      "[CV 2/3; 10/12] START max_depth=4, n_estimators=51..............................\n",
      "[CV 2/3; 10/12] END ............max_depth=4, n_estimators=51; total time=   3.6s\n",
      "[CV 3/3; 10/12] START max_depth=4, n_estimators=51..............................\n",
      "[CV 3/3; 10/12] END ............max_depth=4, n_estimators=51; total time=   3.5s\n",
      "[CV 1/3; 11/12] START max_depth=4, n_estimators=101.............................\n",
      "[CV 1/3; 11/12] END ...........max_depth=4, n_estimators=101; total time=   6.9s\n",
      "[CV 2/3; 11/12] START max_depth=4, n_estimators=101.............................\n",
      "[CV 2/3; 11/12] END ...........max_depth=4, n_estimators=101; total time=   6.9s\n",
      "[CV 3/3; 11/12] START max_depth=4, n_estimators=101.............................\n",
      "[CV 3/3; 11/12] END ...........max_depth=4, n_estimators=101; total time=   6.8s\n",
      "[CV 1/3; 12/12] START max_depth=4, n_estimators=151.............................\n",
      "[CV 1/3; 12/12] END ...........max_depth=4, n_estimators=151; total time=  10.5s\n",
      "[CV 2/3; 12/12] START max_depth=4, n_estimators=151.............................\n",
      "[CV 2/3; 12/12] END ...........max_depth=4, n_estimators=151; total time=  10.6s\n",
      "[CV 3/3; 12/12] START max_depth=4, n_estimators=151.............................\n",
      "[CV 3/3; 12/12] END ...........max_depth=4, n_estimators=151; total time=  12.4s\n",
      "CPU times: user 2min 42s, sys: 0 ns, total: 2min 42s\n",
      "Wall time: 2min 43s\n"
     ]
    },
    {
     "data": {
      "text/plain": [
       "GridSearchCV(cv=3,\n",
       "             estimator=RandomForestClassifier(class_weight='balanced',\n",
       "                                              random_state=90),\n",
       "             n_jobs=-1,\n",
       "             param_grid={'max_depth': range(2, 5),\n",
       "                         'n_estimators': range(1, 155, 50)},\n",
       "             scoring='f1', verbose=100)"
      ]
     },
     "execution_count": 21,
     "metadata": {},
     "output_type": "execute_result"
    }
   ],
   "source": [
    "%%time\n",
    "# модель RandomForestClassifier\n",
    "\n",
    "# Указала class_weight = 'balanced', потому что значение метрики улучшелось\n",
    "\n",
    "model_forest = RandomForestClassifier(random_state=90, class_weight = 'balanced')\n",
    "params = {'max_depth': range(2,5), 'n_estimators': range(1,155,50)}\n",
    "grid_search = GridSearchCV(model_forest, param_grid=params, scoring = 'f1',\\\n",
    "                           cv=3, n_jobs=-1, verbose=100)\n",
    "\n",
    "grid_search.fit(tf_idf_train, target_train)"
   ]
  },
  {
   "cell_type": "code",
   "execution_count": 22,
   "metadata": {},
   "outputs": [
    {
     "name": "stdout",
     "output_type": "stream",
     "text": [
      "RandomForestClassifier(class_weight='balanced', max_depth=4, n_estimators=151,\n",
      "                       random_state=90)\n"
     ]
    }
   ],
   "source": [
    "print(grid_search.best_estimator_)"
   ]
  },
  {
   "cell_type": "code",
   "execution_count": 23,
   "metadata": {},
   "outputs": [
    {
     "name": "stdout",
     "output_type": "stream",
     "text": [
      "f1_score: 0.3442545819477861\n"
     ]
    }
   ],
   "source": [
    "result_forest = grid_search.best_score_\n",
    "print('f1_score:',result_forest)"
   ]
  },
  {
   "cell_type": "code",
   "execution_count": 24,
   "metadata": {},
   "outputs": [
    {
     "data": {
      "text/html": [
       "<div>\n",
       "<style scoped>\n",
       "    .dataframe tbody tr th:only-of-type {\n",
       "        vertical-align: middle;\n",
       "    }\n",
       "\n",
       "    .dataframe tbody tr th {\n",
       "        vertical-align: top;\n",
       "    }\n",
       "\n",
       "    .dataframe thead th {\n",
       "        text-align: right;\n",
       "    }\n",
       "</style>\n",
       "<table border=\"1\" class=\"dataframe\">\n",
       "  <thead>\n",
       "    <tr style=\"text-align: right;\">\n",
       "      <th></th>\n",
       "      <th>f1_score</th>\n",
       "    </tr>\n",
       "  </thead>\n",
       "  <tbody>\n",
       "    <tr>\n",
       "      <th>TreeClassifier</th>\n",
       "      <td>0.579455</td>\n",
       "    </tr>\n",
       "    <tr>\n",
       "      <th>ForestClassifier</th>\n",
       "      <td>0.344255</td>\n",
       "    </tr>\n",
       "    <tr>\n",
       "      <th>LogisticRegressor</th>\n",
       "      <td>0.762757</td>\n",
       "    </tr>\n",
       "  </tbody>\n",
       "</table>\n",
       "</div>"
      ],
      "text/plain": [
       "                   f1_score\n",
       "TreeClassifier     0.579455\n",
       "ForestClassifier   0.344255\n",
       "LogisticRegressor  0.762757"
      ]
     },
     "execution_count": 24,
     "metadata": {},
     "output_type": "execute_result"
    }
   ],
   "source": [
    "#сведем результаты моделей в одну таблицу\n",
    "results = [\n",
    "    [result_tree],\n",
    "    [result_forest],\n",
    "    [result_lr],\n",
    "];\n",
    "pd.DataFrame(data = results,\n",
    "             index=['TreeClassifier', 'ForestClassifier', 'LogisticRegressor'],\n",
    "             columns=['f1_score'])"
   ]
  },
  {
   "cell_type": "markdown",
   "metadata": {},
   "source": [
    "<div class=\"alert alert-info\" style=\"border:solid blue 2px; padding: 20px\"> <b>Вывод:</b> Обучили разные модели, подобрали гиперпараметры. Наилучший результат показала модель LogisticRegressor - 0.76</div>"
   ]
  },
  {
   "cell_type": "code",
   "execution_count": null,
   "metadata": {},
   "outputs": [],
   "source": []
  },
  {
   "cell_type": "code",
   "execution_count": null,
   "metadata": {},
   "outputs": [],
   "source": [
    "*********************************************************"
   ]
  },
  {
   "cell_type": "code",
   "execution_count": null,
   "metadata": {},
   "outputs": [],
   "source": []
  },
  {
   "cell_type": "code",
   "execution_count": null,
   "metadata": {},
   "outputs": [],
   "source": [
    "*********************************************************"
   ]
  },
  {
   "cell_type": "markdown",
   "metadata": {},
   "source": [
    "<a id=\"results\"></a>\n",
    "# 3. Выводы"
   ]
  },
  {
   "cell_type": "code",
   "execution_count": 25,
   "metadata": {},
   "outputs": [
    {
     "name": "stdout",
     "output_type": "stream",
     "text": [
      "f1_score: 0.7550461854259323\n"
     ]
    }
   ],
   "source": [
    "#проверим модель с наилучшим значением матрики на тестовой выборке\n",
    "predict_test=model_lr.predict(tf_idf_test)\n",
    "test_score=f1_score(target_test,predict_test)\n",
    "print('f1_score:', test_score)"
   ]
  },
  {
   "cell_type": "code",
   "execution_count": 26,
   "metadata": {},
   "outputs": [
    {
     "data": {
      "image/png": "[encoded data removed]",
      "text/plain": [
       "<Figure size 576x576 with 1 Axes>"
      ]
     },
     "metadata": {
      "needs_background": "light"
     },
     "output_type": "display_data"
    }
   ],
   "source": [
    "#визуализируем предсказанные ответы и правильные\n",
    "\n",
    "plt.figure(figsize=(8,8))\n",
    "sns.regplot(target_test, predict_test, color= 'g', fit_reg=True, scatter_kws={\"s\": 10, 'alpha':0.03})\n",
    "plt.title('Предсказания модели LogisticRegression и правильные ответы')\n",
    "plt.xlabel('Правильные ответы')\n",
    "plt.ylabel('Предсказания модели')\n",
    "plt.show();"
   ]
  },
  {
   "cell_type": "markdown",
   "metadata": {},
   "source": [
    "<div class=\"alert alert-info\" style=\"border:solid blue 2px; padding: 20px\"> <b> Общий вывод:</b> В процессе всей работы мы подготовили данные к анализу. Выяснили, что в токсичных комментариях больше стоп_слов и меньше уникальных слов. Убедиись в этом с помощью графиков. Обучили несколько моделей, подобрав к ним гиперпараметры. Лучшее f1_score показала модель - LogisticRegression(0.76). Проверили ее на тестовой выборке и визуализировали предсказания и правильные ответы. Поскольку с поставленной задачей я справилась(Значение F1 метрики > 75), то для работы с BERT я взяла небольшую выборку, чтобы считалось все быстрее, но в целом понять процесс.</div>"
   ]
  },
  {
   "cell_type": "code",
   "execution_count": null,
   "metadata": {},
   "outputs": [],
   "source": []
  },
  {
   "cell_type": "markdown",
   "metadata": {},
   "source": [
    "# Чек-лист проверки"
   ]
  },
  {
   "cell_type": "code",
   "execution_count": null,
   "metadata": {},
   "outputs": [],
   "source": []
  },
  {
   "cell_type": "markdown",
   "metadata": {},
   "source": [
    "- [x]  Jupyter Notebook открыт\n",
    "- [ ]  Весь код выполняется без ошибок\n",
    "- [ ]  Ячейки с кодом расположены в порядке исполнения\n",
    "- [ ]  Данные загружены и подготовлены\n",
    "- [ ]  Модели обучены\n",
    "- [ ]  Значение метрики *F1* не меньше 0.75\n",
    "- [ ]  Выводы написаны"
   ]
  }
 ],
 "metadata": {
  "kernelspec": {
   "display_name": "Python 3",
   "language": "python",
   "name": "python3"
  },
  "language_info": {
   "codemirror_mode": {
    "name": "ipython",
    "version": 3
   },
   "file_extension": ".py",
   "mimetype": "text/x-python",
   "name": "python",
   "nbconvert_exporter": "python",
   "pygments_lexer": "ipython3",
   "version": "3.8.2"
  }
 },
 "nbformat": 4,
 "nbformat_minor": 2
}
