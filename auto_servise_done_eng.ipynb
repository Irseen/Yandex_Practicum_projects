{
 "cells": [
  {
   "cell_type": "markdown",
   "metadata": {},
   "source": [
    "# The task\n",
    "We need to build a model to determine the cost of cars.\n",
    "\n",
    "Important for the customer:\n",
    "\n",
    "- the quality of the prediction;\n",
    "- prediction speed;\n",
    "- studying time."
   ]
  },
  {
   "cell_type": "markdown",
   "metadata": {},
   "source": [
    "# 1. Start"
   ]
  },
  {
   "cell_type": "code",
   "execution_count": 1,
   "metadata": {},
   "outputs": [],
   "source": [
    "import pandas as pd\n",
    "import numpy as np\n",
    "\n",
    "import matplotlib.pyplot as plt\n",
    "import seaborn as sns\n",
    "\n",
    "import lightgbm as lightgbm\n",
    "import catboost as catboost\n",
    "\n",
    "from sklearn.model_selection import train_test_split\n",
    "from sklearn.preprocessing import StandardScaler\n",
    "from sklearn.model_selection import KFold\n",
    "from sklearn.model_selection import GridSearchCV\n",
    "\n",
    "from sklearn.metrics import mean_squared_error\n",
    "from sklearn.preprocessing import OneHotEncoder\n",
    "from sklearn.preprocessing import OrdinalEncoder\n",
    "\n",
    "from sklearn.tree import DecisionTreeRegressor\n",
    "from sklearn.ensemble import RandomForestRegressor\n",
    "from sklearn.linear_model import LinearRegression\n",
    "from catboost import CatBoostRegressor\n",
    "from lightgbm import LGBMRegressor\n",
    "\n",
    "import time\n",
    "\n",
    "import warnings\n",
    "warnings.filterwarnings('ignore')"
   ]
  },
  {
   "cell_type": "code",
   "execution_count": 2,
   "metadata": {},
   "outputs": [
    {
     "data": {
      "text/html": [
       "<div>\n",
       "<style scoped>\n",
       "    .dataframe tbody tr th:only-of-type {\n",
       "        vertical-align: middle;\n",
       "    }\n",
       "\n",
       "    .dataframe tbody tr th {\n",
       "        vertical-align: top;\n",
       "    }\n",
       "\n",
       "    .dataframe thead th {\n",
       "        text-align: right;\n",
       "    }\n",
       "</style>\n",
       "<table border=\"1\" class=\"dataframe\">\n",
       "  <thead>\n",
       "    <tr style=\"text-align: right;\">\n",
       "      <th></th>\n",
       "      <th>DateCrawled</th>\n",
       "      <th>Price</th>\n",
       "      <th>VehicleType</th>\n",
       "      <th>RegistrationYear</th>\n",
       "      <th>Gearbox</th>\n",
       "      <th>Power</th>\n",
       "      <th>Model</th>\n",
       "      <th>Kilometer</th>\n",
       "      <th>RegistrationMonth</th>\n",
       "      <th>FuelType</th>\n",
       "      <th>Brand</th>\n",
       "      <th>NotRepaired</th>\n",
       "      <th>DateCreated</th>\n",
       "      <th>NumberOfPictures</th>\n",
       "      <th>PostalCode</th>\n",
       "      <th>LastSeen</th>\n",
       "    </tr>\n",
       "  </thead>\n",
       "  <tbody>\n",
       "    <tr>\n",
       "      <td>0</td>\n",
       "      <td>2016-03-24 11:52:17</td>\n",
       "      <td>480</td>\n",
       "      <td>NaN</td>\n",
       "      <td>1993</td>\n",
       "      <td>manual</td>\n",
       "      <td>0</td>\n",
       "      <td>golf</td>\n",
       "      <td>150000</td>\n",
       "      <td>0</td>\n",
       "      <td>petrol</td>\n",
       "      <td>volkswagen</td>\n",
       "      <td>NaN</td>\n",
       "      <td>2016-03-24 00:00:00</td>\n",
       "      <td>0</td>\n",
       "      <td>70435</td>\n",
       "      <td>2016-04-07 03:16:57</td>\n",
       "    </tr>\n",
       "    <tr>\n",
       "      <td>1</td>\n",
       "      <td>2016-03-24 10:58:45</td>\n",
       "      <td>18300</td>\n",
       "      <td>coupe</td>\n",
       "      <td>2011</td>\n",
       "      <td>manual</td>\n",
       "      <td>190</td>\n",
       "      <td>NaN</td>\n",
       "      <td>125000</td>\n",
       "      <td>5</td>\n",
       "      <td>gasoline</td>\n",
       "      <td>audi</td>\n",
       "      <td>yes</td>\n",
       "      <td>2016-03-24 00:00:00</td>\n",
       "      <td>0</td>\n",
       "      <td>66954</td>\n",
       "      <td>2016-04-07 01:46:50</td>\n",
       "    </tr>\n",
       "    <tr>\n",
       "      <td>2</td>\n",
       "      <td>2016-03-14 12:52:21</td>\n",
       "      <td>9800</td>\n",
       "      <td>suv</td>\n",
       "      <td>2004</td>\n",
       "      <td>auto</td>\n",
       "      <td>163</td>\n",
       "      <td>grand</td>\n",
       "      <td>125000</td>\n",
       "      <td>8</td>\n",
       "      <td>gasoline</td>\n",
       "      <td>jeep</td>\n",
       "      <td>NaN</td>\n",
       "      <td>2016-03-14 00:00:00</td>\n",
       "      <td>0</td>\n",
       "      <td>90480</td>\n",
       "      <td>2016-04-05 12:47:46</td>\n",
       "    </tr>\n",
       "    <tr>\n",
       "      <td>3</td>\n",
       "      <td>2016-03-17 16:54:04</td>\n",
       "      <td>1500</td>\n",
       "      <td>small</td>\n",
       "      <td>2001</td>\n",
       "      <td>manual</td>\n",
       "      <td>75</td>\n",
       "      <td>golf</td>\n",
       "      <td>150000</td>\n",
       "      <td>6</td>\n",
       "      <td>petrol</td>\n",
       "      <td>volkswagen</td>\n",
       "      <td>no</td>\n",
       "      <td>2016-03-17 00:00:00</td>\n",
       "      <td>0</td>\n",
       "      <td>91074</td>\n",
       "      <td>2016-03-17 17:40:17</td>\n",
       "    </tr>\n",
       "    <tr>\n",
       "      <td>4</td>\n",
       "      <td>2016-03-31 17:25:20</td>\n",
       "      <td>3600</td>\n",
       "      <td>small</td>\n",
       "      <td>2008</td>\n",
       "      <td>manual</td>\n",
       "      <td>69</td>\n",
       "      <td>fabia</td>\n",
       "      <td>90000</td>\n",
       "      <td>7</td>\n",
       "      <td>gasoline</td>\n",
       "      <td>skoda</td>\n",
       "      <td>no</td>\n",
       "      <td>2016-03-31 00:00:00</td>\n",
       "      <td>0</td>\n",
       "      <td>60437</td>\n",
       "      <td>2016-04-06 10:17:21</td>\n",
       "    </tr>\n",
       "    <tr>\n",
       "      <td>...</td>\n",
       "      <td>...</td>\n",
       "      <td>...</td>\n",
       "      <td>...</td>\n",
       "      <td>...</td>\n",
       "      <td>...</td>\n",
       "      <td>...</td>\n",
       "      <td>...</td>\n",
       "      <td>...</td>\n",
       "      <td>...</td>\n",
       "      <td>...</td>\n",
       "      <td>...</td>\n",
       "      <td>...</td>\n",
       "      <td>...</td>\n",
       "      <td>...</td>\n",
       "      <td>...</td>\n",
       "      <td>...</td>\n",
       "    </tr>\n",
       "    <tr>\n",
       "      <td>354364</td>\n",
       "      <td>2016-03-21 09:50:58</td>\n",
       "      <td>0</td>\n",
       "      <td>NaN</td>\n",
       "      <td>2005</td>\n",
       "      <td>manual</td>\n",
       "      <td>0</td>\n",
       "      <td>colt</td>\n",
       "      <td>150000</td>\n",
       "      <td>7</td>\n",
       "      <td>petrol</td>\n",
       "      <td>mitsubishi</td>\n",
       "      <td>yes</td>\n",
       "      <td>2016-03-21 00:00:00</td>\n",
       "      <td>0</td>\n",
       "      <td>2694</td>\n",
       "      <td>2016-03-21 10:42:49</td>\n",
       "    </tr>\n",
       "    <tr>\n",
       "      <td>354365</td>\n",
       "      <td>2016-03-14 17:48:27</td>\n",
       "      <td>2200</td>\n",
       "      <td>NaN</td>\n",
       "      <td>2005</td>\n",
       "      <td>NaN</td>\n",
       "      <td>0</td>\n",
       "      <td>NaN</td>\n",
       "      <td>20000</td>\n",
       "      <td>1</td>\n",
       "      <td>NaN</td>\n",
       "      <td>sonstige_autos</td>\n",
       "      <td>NaN</td>\n",
       "      <td>2016-03-14 00:00:00</td>\n",
       "      <td>0</td>\n",
       "      <td>39576</td>\n",
       "      <td>2016-04-06 00:46:52</td>\n",
       "    </tr>\n",
       "    <tr>\n",
       "      <td>354366</td>\n",
       "      <td>2016-03-05 19:56:21</td>\n",
       "      <td>1199</td>\n",
       "      <td>convertible</td>\n",
       "      <td>2000</td>\n",
       "      <td>auto</td>\n",
       "      <td>101</td>\n",
       "      <td>fortwo</td>\n",
       "      <td>125000</td>\n",
       "      <td>3</td>\n",
       "      <td>petrol</td>\n",
       "      <td>smart</td>\n",
       "      <td>no</td>\n",
       "      <td>2016-03-05 00:00:00</td>\n",
       "      <td>0</td>\n",
       "      <td>26135</td>\n",
       "      <td>2016-03-11 18:17:12</td>\n",
       "    </tr>\n",
       "    <tr>\n",
       "      <td>354367</td>\n",
       "      <td>2016-03-19 18:57:12</td>\n",
       "      <td>9200</td>\n",
       "      <td>bus</td>\n",
       "      <td>1996</td>\n",
       "      <td>manual</td>\n",
       "      <td>102</td>\n",
       "      <td>transporter</td>\n",
       "      <td>150000</td>\n",
       "      <td>3</td>\n",
       "      <td>gasoline</td>\n",
       "      <td>volkswagen</td>\n",
       "      <td>no</td>\n",
       "      <td>2016-03-19 00:00:00</td>\n",
       "      <td>0</td>\n",
       "      <td>87439</td>\n",
       "      <td>2016-04-07 07:15:26</td>\n",
       "    </tr>\n",
       "    <tr>\n",
       "      <td>354368</td>\n",
       "      <td>2016-03-20 19:41:08</td>\n",
       "      <td>3400</td>\n",
       "      <td>wagon</td>\n",
       "      <td>2002</td>\n",
       "      <td>manual</td>\n",
       "      <td>100</td>\n",
       "      <td>golf</td>\n",
       "      <td>150000</td>\n",
       "      <td>6</td>\n",
       "      <td>gasoline</td>\n",
       "      <td>volkswagen</td>\n",
       "      <td>NaN</td>\n",
       "      <td>2016-03-20 00:00:00</td>\n",
       "      <td>0</td>\n",
       "      <td>40764</td>\n",
       "      <td>2016-03-24 12:45:21</td>\n",
       "    </tr>\n",
       "  </tbody>\n",
       "</table>\n",
       "<p>354369 rows × 16 columns</p>\n",
       "</div>"
      ],
      "text/plain": [
       "                DateCrawled  Price  VehicleType  RegistrationYear Gearbox  \\\n",
       "0       2016-03-24 11:52:17    480          NaN              1993  manual   \n",
       "1       2016-03-24 10:58:45  18300        coupe              2011  manual   \n",
       "2       2016-03-14 12:52:21   9800          suv              2004    auto   \n",
       "3       2016-03-17 16:54:04   1500        small              2001  manual   \n",
       "4       2016-03-31 17:25:20   3600        small              2008  manual   \n",
       "...                     ...    ...          ...               ...     ...   \n",
       "354364  2016-03-21 09:50:58      0          NaN              2005  manual   \n",
       "354365  2016-03-14 17:48:27   2200          NaN              2005     NaN   \n",
       "354366  2016-03-05 19:56:21   1199  convertible              2000    auto   \n",
       "354367  2016-03-19 18:57:12   9200          bus              1996  manual   \n",
       "354368  2016-03-20 19:41:08   3400        wagon              2002  manual   \n",
       "\n",
       "        Power        Model  Kilometer  RegistrationMonth  FuelType  \\\n",
       "0           0         golf     150000                  0    petrol   \n",
       "1         190          NaN     125000                  5  gasoline   \n",
       "2         163        grand     125000                  8  gasoline   \n",
       "3          75         golf     150000                  6    petrol   \n",
       "4          69        fabia      90000                  7  gasoline   \n",
       "...       ...          ...        ...                ...       ...   \n",
       "354364      0         colt     150000                  7    petrol   \n",
       "354365      0          NaN      20000                  1       NaN   \n",
       "354366    101       fortwo     125000                  3    petrol   \n",
       "354367    102  transporter     150000                  3  gasoline   \n",
       "354368    100         golf     150000                  6  gasoline   \n",
       "\n",
       "                 Brand NotRepaired          DateCreated  NumberOfPictures  \\\n",
       "0           volkswagen         NaN  2016-03-24 00:00:00                 0   \n",
       "1                 audi         yes  2016-03-24 00:00:00                 0   \n",
       "2                 jeep         NaN  2016-03-14 00:00:00                 0   \n",
       "3           volkswagen          no  2016-03-17 00:00:00                 0   \n",
       "4                skoda          no  2016-03-31 00:00:00                 0   \n",
       "...                ...         ...                  ...               ...   \n",
       "354364      mitsubishi         yes  2016-03-21 00:00:00                 0   \n",
       "354365  sonstige_autos         NaN  2016-03-14 00:00:00                 0   \n",
       "354366           smart          no  2016-03-05 00:00:00                 0   \n",
       "354367      volkswagen          no  2016-03-19 00:00:00                 0   \n",
       "354368      volkswagen         NaN  2016-03-20 00:00:00                 0   \n",
       "\n",
       "        PostalCode             LastSeen  \n",
       "0            70435  2016-04-07 03:16:57  \n",
       "1            66954  2016-04-07 01:46:50  \n",
       "2            90480  2016-04-05 12:47:46  \n",
       "3            91074  2016-03-17 17:40:17  \n",
       "4            60437  2016-04-06 10:17:21  \n",
       "...            ...                  ...  \n",
       "354364        2694  2016-03-21 10:42:49  \n",
       "354365       39576  2016-04-06 00:46:52  \n",
       "354366       26135  2016-03-11 18:17:12  \n",
       "354367       87439  2016-04-07 07:15:26  \n",
       "354368       40764  2016-03-24 12:45:21  \n",
       "\n",
       "[354369 rows x 16 columns]"
      ]
     },
     "execution_count": 2,
     "metadata": {},
     "output_type": "execute_result"
    }
   ],
   "source": [
    "data=pd.read_csv('/datasets/autos.csv')\n",
    "data"
   ]
  },
  {
   "cell_type": "code",
   "execution_count": 3,
   "metadata": {},
   "outputs": [
    {
     "name": "stdout",
     "output_type": "stream",
     "text": [
      "<class 'pandas.core.frame.DataFrame'>\n",
      "RangeIndex: 354369 entries, 0 to 354368\n",
      "Data columns (total 16 columns):\n",
      "DateCrawled          354369 non-null object\n",
      "Price                354369 non-null int64\n",
      "VehicleType          316879 non-null object\n",
      "RegistrationYear     354369 non-null int64\n",
      "Gearbox              334536 non-null object\n",
      "Power                354369 non-null int64\n",
      "Model                334664 non-null object\n",
      "Kilometer            354369 non-null int64\n",
      "RegistrationMonth    354369 non-null int64\n",
      "FuelType             321474 non-null object\n",
      "Brand                354369 non-null object\n",
      "NotRepaired          283215 non-null object\n",
      "DateCreated          354369 non-null object\n",
      "NumberOfPictures     354369 non-null int64\n",
      "PostalCode           354369 non-null int64\n",
      "LastSeen             354369 non-null object\n",
      "dtypes: int64(7), object(9)\n",
      "memory usage: 43.3+ MB\n"
     ]
    }
   ],
   "source": [
    "data.info()"
   ]
  },
  {
   "cell_type": "markdown",
   "metadata": {},
   "source": [
    "<div class=\"alert alert-info\" style=\"border:solid blue 2px; padding: 20px\"> <b>Conclusion:</b>  The data was load. There are 16 columns in the dataset, some have gaps. We contact the specialists responsible for uploading data. If the provided data is the best option, handle the gaps.  </div>"
   ]
  },
  {
   "cell_type": "code",
   "execution_count": 4,
   "metadata": {},
   "outputs": [],
   "source": [
    "#the PostalCode column is of type int64,\n",
    "# change it to str, because I think this is more of a categorical feature (\"address\" of the car)\n",
    "data['PostalCode']=data['PostalCode'].astype(str)"
   ]
  },
  {
   "cell_type": "code",
   "execution_count": 5,
   "metadata": {},
   "outputs": [
    {
     "data": {
      "text/plain": [
       "array([1993, 2011, 2004, 2001, 2008, 1995, 1980, 2014, 1998, 2005, 1910,\n",
       "       2016, 2007, 2009, 2002, 2018, 1997, 1990, 2017, 1981, 2003, 1994,\n",
       "       1991, 1984, 2006, 1999, 2012, 2010, 2000, 1992, 2013, 1996, 1985,\n",
       "       1989, 2015, 1982, 1976, 1983, 1973, 1111, 1969, 1971, 1987, 1986,\n",
       "       1988, 1970, 1965, 1945, 1925, 1974, 1979, 1955, 1978, 1972, 1968,\n",
       "       1977, 1961, 1960, 1966, 1975, 1963, 1964, 5000, 1954, 1958, 1967,\n",
       "       1959, 9999, 1956, 3200, 1000, 1941, 8888, 1500, 2200, 4100, 1962,\n",
       "       1929, 1957, 1940, 3000, 2066, 1949, 2019, 1937, 1951, 1800, 1953,\n",
       "       1234, 8000, 5300, 9000, 2900, 6000, 5900, 5911, 1933, 1400, 1950,\n",
       "       4000, 1948, 1952, 1200, 8500, 1932, 1255, 3700, 3800, 4800, 1942,\n",
       "       7000, 1935, 1936, 6500, 1923, 2290, 2500, 1930, 1001, 9450, 1944,\n",
       "       1943, 1934, 1938, 1688, 2800, 1253, 1928, 1919, 5555, 5600, 1600,\n",
       "       2222, 1039, 9996, 1300, 8455, 1931, 1915, 4500, 1920, 1602, 7800,\n",
       "       9229, 1947, 1927, 7100, 8200, 1946, 7500, 3500])"
      ]
     },
     "execution_count": 5,
     "metadata": {},
     "output_type": "execute_result"
    }
   ],
   "source": [
    "#consider the RegistrationYear column and make it a categorical feature\n",
    "data['RegistrationYear'].unique()"
   ]
  },
  {
   "cell_type": "code",
   "execution_count": 6,
   "metadata": {},
   "outputs": [
    {
     "data": {
      "text/plain": [
       "array(['1993', '2011', '2004', '2001', '2008', '1995', '1980', '2014',\n",
       "       '1998', '2005', '1910', '2016', '2007', '2009', '2002', '2018',\n",
       "       '1997', '1990', '2017', '1981', '2003', '1994', '1991', '1984',\n",
       "       '2006', '1999', '2012', '2010', '2000', '1992', '2013', '1996',\n",
       "       '1985', '1989', '2015', '1982', '1976', '1983', '1973', '1969',\n",
       "       '1971', '1987', '1986', '1988', '1970', '1965', '1945', '1925',\n",
       "       '1974', '1979', '1955', '1978', '1972', '1968', '1977', '1961',\n",
       "       '1960', '1966', '1975', '1963', '1964', '1954', '1958', '1967',\n",
       "       '1959', '1956', '1941', '1962', '1929', '1957', '1940', '1949',\n",
       "       '2019', '1937', '1951', '1953', '1933', '1950', '1948', '1952',\n",
       "       '1932', '1942', '1935', '1936', '1923', '1930', '1944', '1943',\n",
       "       '1934', '1938', '1928', '1919', '1931', '1915', '1920', '1947',\n",
       "       '1927', '1946'], dtype=object)"
      ]
     },
     "execution_count": 6,
     "metadata": {},
     "output_type": "execute_result"
    }
   ],
   "source": [
    "data = data.drop(data[data['RegistrationYear'] < 1850].index)\n",
    "data = data.drop(data[data['RegistrationYear'] > 2020].index)\n",
    "data['RegistrationYear']=data['RegistrationYear'].astype(str)\n",
    "data['RegistrationYear'].unique()"
   ]
  },
  {
   "cell_type": "code",
   "execution_count": 7,
   "metadata": {},
   "outputs": [
    {
     "name": "stdout",
     "output_type": "stream",
     "text": [
      "DateCrawled          object\n",
      "Price                 int64\n",
      "VehicleType          object\n",
      "RegistrationYear     object\n",
      "Gearbox              object\n",
      "Power                 int64\n",
      "Model                object\n",
      "Kilometer             int64\n",
      "RegistrationMonth     int64\n",
      "FuelType             object\n",
      "Brand                object\n",
      "NotRepaired          object\n",
      "DateCreated          object\n",
      "NumberOfPictures      int64\n",
      "PostalCode           object\n",
      "LastSeen             object\n",
      "dtype: object\n"
     ]
    }
   ],
   "source": [
    "#make sure all columns are of the correct data type\n",
    "print(data.dtypes)"
   ]
  },
  {
   "cell_type": "code",
   "execution_count": 8,
   "metadata": {},
   "outputs": [
    {
     "data": {
      "text/plain": [
       "DateCrawled              0\n",
       "Price                    0\n",
       "VehicleType          37319\n",
       "RegistrationYear         0\n",
       "Gearbox              19695\n",
       "Power                    0\n",
       "Model                19630\n",
       "Kilometer                0\n",
       "RegistrationMonth        0\n",
       "FuelType             32767\n",
       "Brand                    0\n",
       "NotRepaired          71007\n",
       "DateCreated              0\n",
       "NumberOfPictures         0\n",
       "PostalCode               0\n",
       "LastSeen                 0\n",
       "dtype: int64"
      ]
     },
     "execution_count": 8,
     "metadata": {},
     "output_type": "execute_result"
    }
   ],
   "source": [
    "#check for passes\n",
    "data.isnull().sum()"
   ]
  },
  {
   "cell_type": "code",
   "execution_count": 9,
   "metadata": {},
   "outputs": [
    {
     "data": {
      "text/plain": [
       "4"
      ]
     },
     "execution_count": 9,
     "metadata": {},
     "output_type": "execute_result"
    }
   ],
   "source": [
    "#check for duplicates\n",
    "data.duplicated().sum()"
   ]
  },
  {
   "cell_type": "code",
   "execution_count": 10,
   "metadata": {},
   "outputs": [
    {
     "data": {
      "text/plain": [
       "0"
      ]
     },
     "execution_count": 10,
     "metadata": {},
     "output_type": "execute_result"
    }
   ],
   "source": [
    "#remove full duplicates\n",
    "data=data.drop_duplicates().reset_index(drop=True)\n",
    "data.duplicated().sum()"
   ]
  },
  {
   "cell_type": "code",
   "execution_count": 11,
   "metadata": {},
   "outputs": [
    {
     "data": {
      "text/plain": [
       "DateCrawled          0\n",
       "Price                0\n",
       "VehicleType          0\n",
       "RegistrationYear     0\n",
       "Gearbox              0\n",
       "Power                0\n",
       "Model                0\n",
       "Kilometer            0\n",
       "RegistrationMonth    0\n",
       "FuelType             0\n",
       "Brand                0\n",
       "NotRepaired          0\n",
       "DateCreated          0\n",
       "NumberOfPictures     0\n",
       "PostalCode           0\n",
       "LastSeen             0\n",
       "dtype: int64"
      ]
     },
     "execution_count": 11,
     "metadata": {},
     "output_type": "execute_result"
    }
   ],
   "source": [
    "#since we are working with categorical features, we will replace the blanks with \"None\",\n",
    "# this will be a separate category for the model\n",
    "data=data.fillna('None')\n",
    "data.isnull().sum()"
   ]
  },
  {
   "cell_type": "code",
   "execution_count": 12,
   "metadata": {},
   "outputs": [
    {
     "data": {
      "text/html": [
       "<div>\n",
       "<style scoped>\n",
       "    .dataframe tbody tr th:only-of-type {\n",
       "        vertical-align: middle;\n",
       "    }\n",
       "\n",
       "    .dataframe tbody tr th {\n",
       "        vertical-align: top;\n",
       "    }\n",
       "\n",
       "    .dataframe thead th {\n",
       "        text-align: right;\n",
       "    }\n",
       "</style>\n",
       "<table border=\"1\" class=\"dataframe\">\n",
       "  <thead>\n",
       "    <tr style=\"text-align: right;\">\n",
       "      <th></th>\n",
       "      <th>Price</th>\n",
       "      <th>VehicleType</th>\n",
       "      <th>RegistrationYear</th>\n",
       "      <th>Gearbox</th>\n",
       "      <th>Power</th>\n",
       "      <th>Model</th>\n",
       "      <th>Kilometer</th>\n",
       "      <th>FuelType</th>\n",
       "      <th>Brand</th>\n",
       "      <th>NotRepaired</th>\n",
       "      <th>PostalCode</th>\n",
       "    </tr>\n",
       "  </thead>\n",
       "  <tbody>\n",
       "    <tr>\n",
       "      <td>0</td>\n",
       "      <td>480</td>\n",
       "      <td>None</td>\n",
       "      <td>1993</td>\n",
       "      <td>manual</td>\n",
       "      <td>0</td>\n",
       "      <td>golf</td>\n",
       "      <td>150000</td>\n",
       "      <td>petrol</td>\n",
       "      <td>volkswagen</td>\n",
       "      <td>None</td>\n",
       "      <td>70435</td>\n",
       "    </tr>\n",
       "    <tr>\n",
       "      <td>1</td>\n",
       "      <td>18300</td>\n",
       "      <td>coupe</td>\n",
       "      <td>2011</td>\n",
       "      <td>manual</td>\n",
       "      <td>190</td>\n",
       "      <td>None</td>\n",
       "      <td>125000</td>\n",
       "      <td>gasoline</td>\n",
       "      <td>audi</td>\n",
       "      <td>yes</td>\n",
       "      <td>66954</td>\n",
       "    </tr>\n",
       "    <tr>\n",
       "      <td>2</td>\n",
       "      <td>9800</td>\n",
       "      <td>suv</td>\n",
       "      <td>2004</td>\n",
       "      <td>auto</td>\n",
       "      <td>163</td>\n",
       "      <td>grand</td>\n",
       "      <td>125000</td>\n",
       "      <td>gasoline</td>\n",
       "      <td>jeep</td>\n",
       "      <td>None</td>\n",
       "      <td>90480</td>\n",
       "    </tr>\n",
       "    <tr>\n",
       "      <td>3</td>\n",
       "      <td>1500</td>\n",
       "      <td>small</td>\n",
       "      <td>2001</td>\n",
       "      <td>manual</td>\n",
       "      <td>75</td>\n",
       "      <td>golf</td>\n",
       "      <td>150000</td>\n",
       "      <td>petrol</td>\n",
       "      <td>volkswagen</td>\n",
       "      <td>no</td>\n",
       "      <td>91074</td>\n",
       "    </tr>\n",
       "    <tr>\n",
       "      <td>4</td>\n",
       "      <td>3600</td>\n",
       "      <td>small</td>\n",
       "      <td>2008</td>\n",
       "      <td>manual</td>\n",
       "      <td>69</td>\n",
       "      <td>fabia</td>\n",
       "      <td>90000</td>\n",
       "      <td>gasoline</td>\n",
       "      <td>skoda</td>\n",
       "      <td>no</td>\n",
       "      <td>60437</td>\n",
       "    </tr>\n",
       "    <tr>\n",
       "      <td>...</td>\n",
       "      <td>...</td>\n",
       "      <td>...</td>\n",
       "      <td>...</td>\n",
       "      <td>...</td>\n",
       "      <td>...</td>\n",
       "      <td>...</td>\n",
       "      <td>...</td>\n",
       "      <td>...</td>\n",
       "      <td>...</td>\n",
       "      <td>...</td>\n",
       "      <td>...</td>\n",
       "    </tr>\n",
       "    <tr>\n",
       "      <td>354189</td>\n",
       "      <td>0</td>\n",
       "      <td>None</td>\n",
       "      <td>2005</td>\n",
       "      <td>manual</td>\n",
       "      <td>0</td>\n",
       "      <td>colt</td>\n",
       "      <td>150000</td>\n",
       "      <td>petrol</td>\n",
       "      <td>mitsubishi</td>\n",
       "      <td>yes</td>\n",
       "      <td>2694</td>\n",
       "    </tr>\n",
       "    <tr>\n",
       "      <td>354190</td>\n",
       "      <td>2200</td>\n",
       "      <td>None</td>\n",
       "      <td>2005</td>\n",
       "      <td>None</td>\n",
       "      <td>0</td>\n",
       "      <td>None</td>\n",
       "      <td>20000</td>\n",
       "      <td>None</td>\n",
       "      <td>sonstige_autos</td>\n",
       "      <td>None</td>\n",
       "      <td>39576</td>\n",
       "    </tr>\n",
       "    <tr>\n",
       "      <td>354191</td>\n",
       "      <td>1199</td>\n",
       "      <td>convertible</td>\n",
       "      <td>2000</td>\n",
       "      <td>auto</td>\n",
       "      <td>101</td>\n",
       "      <td>fortwo</td>\n",
       "      <td>125000</td>\n",
       "      <td>petrol</td>\n",
       "      <td>smart</td>\n",
       "      <td>no</td>\n",
       "      <td>26135</td>\n",
       "    </tr>\n",
       "    <tr>\n",
       "      <td>354192</td>\n",
       "      <td>9200</td>\n",
       "      <td>bus</td>\n",
       "      <td>1996</td>\n",
       "      <td>manual</td>\n",
       "      <td>102</td>\n",
       "      <td>transporter</td>\n",
       "      <td>150000</td>\n",
       "      <td>gasoline</td>\n",
       "      <td>volkswagen</td>\n",
       "      <td>no</td>\n",
       "      <td>87439</td>\n",
       "    </tr>\n",
       "    <tr>\n",
       "      <td>354193</td>\n",
       "      <td>3400</td>\n",
       "      <td>wagon</td>\n",
       "      <td>2002</td>\n",
       "      <td>manual</td>\n",
       "      <td>100</td>\n",
       "      <td>golf</td>\n",
       "      <td>150000</td>\n",
       "      <td>gasoline</td>\n",
       "      <td>volkswagen</td>\n",
       "      <td>None</td>\n",
       "      <td>40764</td>\n",
       "    </tr>\n",
       "  </tbody>\n",
       "</table>\n",
       "<p>354194 rows × 11 columns</p>\n",
       "</div>"
      ],
      "text/plain": [
       "        Price  VehicleType RegistrationYear Gearbox  Power        Model  \\\n",
       "0         480         None             1993  manual      0         golf   \n",
       "1       18300        coupe             2011  manual    190         None   \n",
       "2        9800          suv             2004    auto    163        grand   \n",
       "3        1500        small             2001  manual     75         golf   \n",
       "4        3600        small             2008  manual     69        fabia   \n",
       "...       ...          ...              ...     ...    ...          ...   \n",
       "354189      0         None             2005  manual      0         colt   \n",
       "354190   2200         None             2005    None      0         None   \n",
       "354191   1199  convertible             2000    auto    101       fortwo   \n",
       "354192   9200          bus             1996  manual    102  transporter   \n",
       "354193   3400        wagon             2002  manual    100         golf   \n",
       "\n",
       "        Kilometer  FuelType           Brand NotRepaired PostalCode  \n",
       "0          150000    petrol      volkswagen        None      70435  \n",
       "1          125000  gasoline            audi         yes      66954  \n",
       "2          125000  gasoline            jeep        None      90480  \n",
       "3          150000    petrol      volkswagen          no      91074  \n",
       "4           90000  gasoline           skoda          no      60437  \n",
       "...           ...       ...             ...         ...        ...  \n",
       "354189     150000    petrol      mitsubishi         yes       2694  \n",
       "354190      20000      None  sonstige_autos        None      39576  \n",
       "354191     125000    petrol           smart          no      26135  \n",
       "354192     150000  gasoline      volkswagen          no      87439  \n",
       "354193     150000  gasoline      volkswagen        None      40764  \n",
       "\n",
       "[354194 rows x 11 columns]"
      ]
     },
     "execution_count": 12,
     "metadata": {},
     "output_type": "execute_result"
    }
   ],
   "source": [
    "#remove columns that can not affect the price of the car\n",
    "data=data.drop(['DateCrawled', 'LastSeen', 'DateCreated', 'NumberOfPictures', 'RegistrationMonth'], axis=1)\n",
    "data"
   ]
  },
  {
   "cell_type": "code",
   "execution_count": 13,
   "metadata": {},
   "outputs": [
    {
     "data": {
      "text/html": [
       "<div>\n",
       "<style scoped>\n",
       "    .dataframe tbody tr th:only-of-type {\n",
       "        vertical-align: middle;\n",
       "    }\n",
       "\n",
       "    .dataframe tbody tr th {\n",
       "        vertical-align: top;\n",
       "    }\n",
       "\n",
       "    .dataframe thead th {\n",
       "        text-align: right;\n",
       "    }\n",
       "</style>\n",
       "<table border=\"1\" class=\"dataframe\">\n",
       "  <thead>\n",
       "    <tr style=\"text-align: right;\">\n",
       "      <th></th>\n",
       "      <th>Power</th>\n",
       "      <th>Kilometer</th>\n",
       "      <th>Price</th>\n",
       "    </tr>\n",
       "  </thead>\n",
       "  <tbody>\n",
       "    <tr>\n",
       "      <td>count</td>\n",
       "      <td>354194.000000</td>\n",
       "      <td>354194.000000</td>\n",
       "      <td>354194.00000</td>\n",
       "    </tr>\n",
       "    <tr>\n",
       "      <td>mean</td>\n",
       "      <td>110.077720</td>\n",
       "      <td>128267.799567</td>\n",
       "      <td>4417.67439</td>\n",
       "    </tr>\n",
       "    <tr>\n",
       "      <td>std</td>\n",
       "      <td>189.537689</td>\n",
       "      <td>37823.278992</td>\n",
       "      <td>4514.09886</td>\n",
       "    </tr>\n",
       "    <tr>\n",
       "      <td>min</td>\n",
       "      <td>0.000000</td>\n",
       "      <td>5000.000000</td>\n",
       "      <td>0.00000</td>\n",
       "    </tr>\n",
       "    <tr>\n",
       "      <td>25%</td>\n",
       "      <td>69.000000</td>\n",
       "      <td>125000.000000</td>\n",
       "      <td>1050.00000</td>\n",
       "    </tr>\n",
       "    <tr>\n",
       "      <td>50%</td>\n",
       "      <td>105.000000</td>\n",
       "      <td>150000.000000</td>\n",
       "      <td>2700.00000</td>\n",
       "    </tr>\n",
       "    <tr>\n",
       "      <td>75%</td>\n",
       "      <td>143.000000</td>\n",
       "      <td>150000.000000</td>\n",
       "      <td>6400.00000</td>\n",
       "    </tr>\n",
       "    <tr>\n",
       "      <td>max</td>\n",
       "      <td>20000.000000</td>\n",
       "      <td>150000.000000</td>\n",
       "      <td>20000.00000</td>\n",
       "    </tr>\n",
       "  </tbody>\n",
       "</table>\n",
       "</div>"
      ],
      "text/plain": [
       "               Power      Kilometer         Price\n",
       "count  354194.000000  354194.000000  354194.00000\n",
       "mean      110.077720  128267.799567    4417.67439\n",
       "std       189.537689   37823.278992    4514.09886\n",
       "min         0.000000    5000.000000       0.00000\n",
       "25%        69.000000  125000.000000    1050.00000\n",
       "50%       105.000000  150000.000000    2700.00000\n",
       "75%       143.000000  150000.000000    6400.00000\n",
       "max     20000.000000  150000.000000   20000.00000"
      ]
     },
     "execution_count": 13,
     "metadata": {},
     "output_type": "execute_result"
    }
   ],
   "source": [
    "#analyze quantitative features\n",
    "data=data.copy()\n",
    "digit = ['Power','Kilometer','Price']\n",
    "data[digit].describe()"
   ]
  },
  {
   "cell_type": "code",
   "execution_count": 14,
   "metadata": {},
   "outputs": [
    {
     "data": {
      "image/png": "[encoded data removed]",
      "text/plain": [
       "<Figure size 432x288 with 1 Axes>"
      ]
     },
     "metadata": {
      "needs_background": "light"
     },
     "output_type": "display_data"
    }
   ],
   "source": [
    "data['Power'].hist(bins=80, range=(0,500))\n",
    "plt.ylabel('quantity')\n",
    "plt.xlabel('h.p')\n",
    "plt.title('Power in h.p');"
   ]
  },
  {
   "cell_type": "code",
   "execution_count": 15,
   "metadata": {},
   "outputs": [
    {
     "data": {
      "image/png": "[encoded data removed]",
      "text/plain": [
       "<Figure size 432x288 with 1 Axes>"
      ]
     },
     "metadata": {
      "needs_background": "light"
     },
     "output_type": "display_data"
    }
   ],
   "source": [
    "#we will limit the range to 100 to consider carefully\n",
    "data['Power'].hist(bins=80, range=(0,100))\n",
    "plt.ylabel('quantity')\n",
    "plt.xlabel('h.p')\n",
    "plt.title('Power in hp');"
   ]
  },
  {
   "cell_type": "code",
   "execution_count": 16,
   "metadata": {},
   "outputs": [
    {
     "data": {
      "image/png": "[encoded data removed]",
      "text/plain": [
       "<Figure size 432x288 with 1 Axes>"
      ]
     },
     "metadata": {
      "needs_background": "light"
     },
     "output_type": "display_data"
    }
   ],
   "source": [
    "data['Power']=data['Power'].where((data['Power'] > 40) & (data['Power'] < 500))\n",
    "data['Power'].hist(bins=80, range=(0,800))\n",
    "plt.ylabel('quantity')\n",
    "plt.xlabel('h.p')\n",
    "plt.title('Power in hp');"
   ]
  },
  {
   "cell_type": "code",
   "execution_count": 17,
   "metadata": {},
   "outputs": [],
   "source": [
    "#remove values that do not fall within the range we have selected\n",
    "data = data.drop(data[(data['Power'] < 40) & (data['Power'] >500)].index)"
   ]
  },
  {
   "cell_type": "markdown",
   "metadata": {},
   "source": [
    "<div class=\"alert alert-info\" style=\"border:solid blue 2px; padding: 20px\"> <b>Conclusion:</b> Column Power has been limited to more realistic values</div>"
   ]
  },
  {
   "cell_type": "code",
   "execution_count": 18,
   "metadata": {},
   "outputs": [
    {
     "data": {
      "image/png": "[encoded data removed]",
      "text/plain": [
       "<Figure size 432x288 with 1 Axes>"
      ]
     },
     "metadata": {
      "needs_background": "light"
     },
     "output_type": "display_data"
    }
   ],
   "source": [
    "data['Kilometer'].hist()\n",
    "plt.ylabel('quantity')\n",
    "plt.xlabel('km')\n",
    "plt.title('Mileage in km');"
   ]
  },
  {
   "cell_type": "markdown",
   "metadata": {},
   "source": [
    "<div class=\"alert alert-info\" style=\"border:solid blue 2px; padding: 20px\"> <b>Conclusion:</b> \n",
    "The Kilometer column appears to have no anomalies. Because the mileage can be anything other than zero.</div>"
   ]
  },
  {
   "cell_type": "code",
   "execution_count": 19,
   "metadata": {},
   "outputs": [
    {
     "data": {
      "image/png": "[encoded data removed]",
      "text/plain": [
       "<Figure size 432x288 with 1 Axes>"
      ]
     },
     "metadata": {
      "needs_background": "light"
     },
     "output_type": "display_data"
    }
   ],
   "source": [
    "data['Price'].hist(bins=100)\n",
    "plt.ylabel('quantity')\n",
    "plt.xlabel('EUR')\n",
    "plt.title('Price in EUR');"
   ]
  },
  {
   "cell_type": "code",
   "execution_count": 20,
   "metadata": {},
   "outputs": [
    {
     "data": {
      "text/plain": [
       "0"
      ]
     },
     "execution_count": 20,
     "metadata": {},
     "output_type": "execute_result"
    }
   ],
   "source": [
    "data=data.copy()\n",
    "data = data.drop(data[data['Price'] < 10].index)\n",
    "data['Price'].isnull().sum()"
   ]
  },
  {
   "cell_type": "markdown",
   "metadata": {},
   "source": [
    "<div class=\"alert alert-info\" style=\"border:solid blue 2px; padding: 20px\"> <b>Conclusion:</b> \n",
    "Zeros removed in the Price column</div>"
   ]
  },
  {
   "cell_type": "code",
   "execution_count": 21,
   "metadata": {},
   "outputs": [],
   "source": [
    "#removed nan in quantitative columns\n",
    "data[digit].dropna(inplace=True)"
   ]
  },
  {
   "cell_type": "code",
   "execution_count": 22,
   "metadata": {},
   "outputs": [
    {
     "name": "stdout",
     "output_type": "stream",
     "text": [
      "train shape: (205323, 10) (205323,)\n",
      "valid_shape: (68441, 10) (68441,)\n",
      "test_shape: (68442, 10) (68442,)\n"
     ]
    }
   ],
   "source": [
    "# select the target feature and features\n",
    "# split the dataset into train, valid, test in a ratio of 3: 1: 1\n",
    "# perform scaling of features\n",
    "target=data['Price']\n",
    "features=data.drop('Price', axis=1)\n",
    "\n",
    "features_train, features_couple, target_train, target_couple = train_test_split(\n",
    "    features, target, test_size=0.4, random_state = 90, shuffle = True)\n",
    "\n",
    "features_valid, features_test, target_valid, target_test = train_test_split(\n",
    "    features_couple,target_couple, test_size =0.5, random_state = 90, shuffle = True)\n",
    "\n",
    "numeric = ['Power','Kilometer']\n",
    "\n",
    "scaler = StandardScaler()\n",
    "scaler.fit(features_train[numeric])\n",
    "\n",
    "features_train[numeric]=scaler.transform(features_train[numeric])\n",
    "features_valid[numeric]=scaler.transform(features_valid[numeric])\n",
    "features_test[numeric]=scaler.transform(features_test[numeric])\n",
    "\n",
    "print('train shape:', features_train.shape,target_train.shape)\n",
    "print('valid_shape:', features_valid.shape,target_valid.shape)\n",
    "print('test_shape:', features_test.shape, target_test.shape)"
   ]
  },
  {
   "cell_type": "code",
   "execution_count": 23,
   "metadata": {},
   "outputs": [
    {
     "name": "stdout",
     "output_type": "stream",
     "text": [
      "           Power  Kilometer\n",
      "317108 -0.293328   0.577378\n",
      "57071  -1.258513  -1.827096\n",
      "279206  1.069285  -1.559932\n",
      "81063  -0.577206   0.577378\n",
      "93875  -1.258513   0.577378\n"
     ]
    }
   ],
   "source": [
    "print(features_train[numeric].head(5))"
   ]
  },
  {
   "cell_type": "markdown",
   "metadata": {},
   "source": [
    "<div class=\"alert alert-info\" style=\"border:solid blue 2px; padding: 20px\"> <b>Conclusion:</b> \n",
    "4 full duplicates were identified in the dataset - deleted, replaced the gaps with str \"None\", deleted columns that did not affect the target feature, scaled the features, divided the dataset into 3 samples</div>"
   ]
  },
  {
   "cell_type": "markdown",
   "metadata": {},
   "source": [
    "# 2. Model"
   ]
  },
  {
   "cell_type": "code",
   "execution_count": 24,
   "metadata": {},
   "outputs": [],
   "source": [
    "#a function that will return training time, prediction time and metric on a test sample\n",
    "def model_time_test(model, X_train, y_train,  X_valid, y_valid, X_test, y_test, cat_features = None):\n",
    "    \n",
    "    begin = time.time()\n",
    "    \n",
    "    if cat_features:\n",
    "        model.fit(X_train, y_train, cat_features=cat_features, verbose=False)\n",
    "    else:\n",
    "        model.fit(X_train, y_train, verbose=False)\n",
    "        \n",
    "\n",
    "    train_time = time.time() - begin\n",
    "    \n",
    "    begin = time.time()  \n",
    "    predictions = model.predict(X_valid)\n",
    "    predictions_time = time.time() - begin\n",
    "    \n",
    "    predictions_test=model.predict(X_test)\n",
    "    test_result=(mean_squared_error(y_test,predictions_test))**0.5\n",
    "\n",
    "    return train_time, predictions_time, test_result"
   ]
  },
  {
   "cell_type": "markdown",
   "metadata": {},
   "source": [
    "### model LinearRegression "
   ]
  },
  {
   "cell_type": "markdown",
   "metadata": {},
   "source": [
    "Unfortunately, the kernel crashes when the feature categorization is performed using the ohe method, and LinearRegression does not quite work correctly with OE. So I moved those cells and commented out. Locally, everything works for me. Since I was convinced that this model does not satisfy the task at hand, I allowed myself this trick."
   ]
  },
  {
   "cell_type": "code",
   "execution_count": 25,
   "metadata": {},
   "outputs": [],
   "source": [
    "#we will carry out the coding of categorical features\n",
    "#data_ohe = pd.get_dummies(data, drop_first = True)\n",
    "#data=data_ohe\n",
    "#data.head(5)"
   ]
  },
  {
   "cell_type": "code",
   "execution_count": 26,
   "metadata": {},
   "outputs": [],
   "source": [
    "# Commented out this cell, if you wish, you can uncomment it and make sure that it works\n",
    "# the answer is also commented out below\n",
    "\n",
    "#%%time\n",
    "\n",
    "#model_linear=LinearRegression(normalize=True)\n",
    "#model_linear.fit(features_train, target_train)\n",
    "#predictions_valid = model_linear.predict(features_valid)\n",
    "#result_linear=(mean_squared_error(target_valid, predictions_valid))**0.5\n",
    "\n",
    "#print('RMSE:', result_linear)  \n",
    "\n",
    "#RMSE: 4050.0203216247112\n",
    "#CPU times: user 2min 38s, sys: 0 ns, total: 2min 38s\n",
    "#Wall time: 2min 49s"
   ]
  },
  {
   "cell_type": "markdown",
   "metadata": {},
   "source": [
    "### train the CatBoostRegressor model and select the best hyperparameters"
   ]
  },
  {
   "cell_type": "code",
   "execution_count": 27,
   "metadata": {},
   "outputs": [],
   "source": [
    "cv = KFold(n_splits=3, shuffle=True, random_state=90)\n",
    "\n",
    "cat_col = ['VehicleType', 'Gearbox', 'Model', 'FuelType',\n",
    "           'Brand', 'NotRepaired', 'PostalCode', 'RegistrationYear' ] \n",
    "\n",
    "model_catboost = CatBoostRegressor(random_state=90, loss_function='RMSE', silent=True, cat_features=cat_col)\n",
    "\n",
    "params = {\n",
    "    'learning_rate': np.logspace(-3, 0, 5),\n",
    "    'iterations': [40, 60],\n",
    "    'depth': [6, 8, 10],\n",
    "}\n",
    "\n",
    "grid_model_catboost = GridSearchCV(model_catboost,\n",
    "                        params,\n",
    "                        cv=cv,\n",
    "                        scoring='neg_mean_squared_error',\n",
    "                        verbose=False)"
   ]
  },
  {
   "cell_type": "code",
   "execution_count": 28,
   "metadata": {},
   "outputs": [],
   "source": [
    "#%%time\n",
    "#grid_model_catboost.fit(features_train, target_train)"
   ]
  },
  {
   "cell_type": "code",
   "execution_count": 29,
   "metadata": {},
   "outputs": [],
   "source": [
    "#grid_model_catboost.best_params_"
   ]
  },
  {
   "cell_type": "code",
   "execution_count": 30,
   "metadata": {},
   "outputs": [
    {
     "name": "stdout",
     "output_type": "stream",
     "text": [
      "RMSE: 1723.2931713254145\n",
      "CPU times: user 31 s, sys: 2.36 s, total: 33.4 s\n",
      "Wall time: 34.1 s\n"
     ]
    }
   ],
   "source": [
    "%%time\n",
    "\n",
    "cat_col = ['VehicleType', 'Gearbox', 'Model', 'FuelType',\n",
    "           'Brand', 'NotRepaired', 'PostalCode', 'RegistrationYear' ] \n",
    "\n",
    "model=CatBoostRegressor(\n",
    "    random_state=90, loss_function='RMSE', iterations = 60, depth=10, learning_rate=0.1778279410038923)\n",
    "\n",
    "model.fit(features_train, target_train, cat_features=cat_col, verbose = False)\n",
    "predictions_valid=model.predict(features_valid)\n",
    "result_catboost = mean_squared_error(target_valid,predictions_valid) ** 0.5\n",
    "print('RMSE:',result_catboost)"
   ]
  },
  {
   "cell_type": "code",
   "execution_count": 31,
   "metadata": {},
   "outputs": [
    {
     "name": "stdout",
     "output_type": "stream",
     "text": [
      "33.80181550979614 0.29099178314208984 1698.8219376497195\n"
     ]
    }
   ],
   "source": [
    "train_time_boost, predictions_time_boost, test_result_boost = model_time_test(\n",
    "    model,features_train,target_train,features_valid, target_valid, features_test, target_test, cat_col)\n",
    "\n",
    "print(train_time_boost, predictions_time_boost, test_result_boost)"
   ]
  },
  {
   "cell_type": "markdown",
   "metadata": {},
   "source": [
    "### train the LGBMRegressor model and select the best hyperparameters"
   ]
  },
  {
   "cell_type": "code",
   "execution_count": 32,
   "metadata": {},
   "outputs": [
    {
     "name": "stdout",
     "output_type": "stream",
     "text": [
      "   VehicleType  Gearbox  Model  FuelType  Brand  NotRepaired  PostalCode  \\\n",
      "0          0.0      2.0  117.0       7.0   38.0          0.0      4665.0   \n",
      "1          3.0      2.0   26.0       3.0    1.0          2.0      4343.0   \n",
      "2          7.0      1.0  118.0       3.0   14.0          0.0      6895.0   \n",
      "3          6.0      2.0  117.0       7.0   38.0          1.0      6935.0   \n",
      "4          6.0      2.0  102.0       3.0   31.0          1.0      3855.0   \n",
      "\n",
      "   RegistrationYear  \n",
      "0              68.0  \n",
      "1              86.0  \n",
      "2              79.0  \n",
      "3              76.0  \n",
      "4              83.0  \n"
     ]
    }
   ],
   "source": [
    "#we will carry out the coding of categorical features\n",
    "encoder=OrdinalEncoder()\n",
    "data_ordinal=pd.DataFrame(encoder.fit_transform(data[cat_col]), columns = cat_col)\n",
    "print(data_ordinal.head(5))"
   ]
  },
  {
   "cell_type": "code",
   "execution_count": 33,
   "metadata": {},
   "outputs": [],
   "source": [
    "#merge tables - quantitative and categorical signs, remove nan\n",
    "data_join=data[['Price','Power', 'Kilometer']].join(data_ordinal, how='right')\n",
    "data_join.dropna(inplace=True)"
   ]
  },
  {
   "cell_type": "code",
   "execution_count": 34,
   "metadata": {},
   "outputs": [],
   "source": [
    "target=data_join['Price']\n",
    "features=data_join.drop('Price', axis=1)\n",
    "\n",
    "features_train, features_couple, target_train, target_couple = train_test_split(\n",
    "    features, target, test_size=0.4, random_state = 90, shuffle = True)\n",
    "\n",
    "features_valid, features_test, target_valid, target_test = train_test_split(\n",
    "    features_couple,target_couple, test_size =0.5, random_state = 90, shuffle = True)\n"
   ]
  },
  {
   "cell_type": "code",
   "execution_count": 35,
   "metadata": {},
   "outputs": [],
   "source": [
    "numeric = ['Power','Kilometer']\n",
    "\n",
    "scaler = StandardScaler()\n",
    "scaler.fit(features_train[numeric])\n",
    "\n",
    "features_train[numeric]=scaler.transform(features_train[numeric])\n",
    "features_valid[numeric]=scaler.transform(features_valid[numeric])\n",
    "features_test[numeric]=scaler.transform(features_test[numeric])"
   ]
  },
  {
   "cell_type": "code",
   "execution_count": 36,
   "metadata": {},
   "outputs": [],
   "source": [
    "model_lgb = LGBMRegressor(boosting_type='gbdt', verbose=0, random_state=90)\n",
    "\n",
    "params = {\n",
    "    'learning_rate': np.logspace(-3, 0, 5),\n",
    "    'n_estimators': [40, 60],\n",
    "    'num_leaves': [21, 31, 41],\n",
    "    'iterations': [40, 60]\n",
    "}\n",
    "\n",
    "grid_model_lgb = GridSearchCV(model_lgb,\n",
    "                        params,\n",
    "                        cv=cv,\n",
    "                        scoring='neg_mean_squared_error',\n",
    "                        verbose=True)"
   ]
  },
  {
   "cell_type": "code",
   "execution_count": 38,
   "metadata": {},
   "outputs": [
    {
     "name": "stdout",
     "output_type": "stream",
     "text": [
      "Fitting 3 folds for each of 60 candidates, totalling 180 fits\n"
     ]
    },
    {
     "name": "stderr",
     "output_type": "stream",
     "text": [
      "[Parallel(n_jobs=1)]: Using backend SequentialBackend with 1 concurrent workers.\n",
      "[Parallel(n_jobs=1)]: Done 180 out of 180 | elapsed:  9.0min finished\n"
     ]
    },
    {
     "name": "stdout",
     "output_type": "stream",
     "text": [
      "CPU times: user 8min 54s, sys: 2.25 s, total: 8min 56s\n",
      "Wall time: 9min 3s\n"
     ]
    },
    {
     "data": {
      "text/plain": [
       "GridSearchCV(cv=KFold(n_splits=3, random_state=90, shuffle=True),\n",
       "             error_score='raise-deprecating',\n",
       "             estimator=LGBMRegressor(boosting_type='gbdt', class_weight=None,\n",
       "                                     colsample_bytree=1.0,\n",
       "                                     importance_type='split', learning_rate=0.1,\n",
       "                                     max_depth=-1, min_child_samples=20,\n",
       "                                     min_child_weight=0.001, min_split_gain=0.0,\n",
       "                                     n_estimators=100, n_jobs=-1, num_leaves=31,\n",
       "                                     objective=No...\n",
       "                                     reg_alpha=0.0, reg_lambda=0.0, silent=True,\n",
       "                                     subsample=1.0, subsample_for_bin=200000,\n",
       "                                     subsample_freq=0, verbose=0),\n",
       "             iid='warn', n_jobs=None,\n",
       "             param_grid={'iterations': [40, 60],\n",
       "                         'learning_rate': array([0.001     , 0.00562341, 0.03162278, 0.17782794, 1.        ]),\n",
       "                         'n_estimators': [40, 60], 'num_leaves': [21, 31, 41]},\n",
       "             pre_dispatch='2*n_jobs', refit=True, return_train_score=False,\n",
       "             scoring='neg_mean_squared_error', verbose=True)"
      ]
     },
     "execution_count": 38,
     "metadata": {},
     "output_type": "execute_result"
    }
   ],
   "source": [
    "%%time\n",
    "grid_model_lgb.fit(features_train, target_train)"
   ]
  },
  {
   "cell_type": "code",
   "execution_count": 39,
   "metadata": {},
   "outputs": [
    {
     "data": {
      "text/plain": [
       "{'iterations': 40,\n",
       " 'learning_rate': 0.1778279410038923,\n",
       " 'n_estimators': 40,\n",
       " 'num_leaves': 41}"
      ]
     },
     "execution_count": 39,
     "metadata": {},
     "output_type": "execute_result"
    }
   ],
   "source": [
    "grid_model_lgb.best_params_"
   ]
  },
  {
   "cell_type": "code",
   "execution_count": 40,
   "metadata": {},
   "outputs": [
    {
     "name": "stdout",
     "output_type": "stream",
     "text": [
      "RMSE: 2950.893388187381\n",
      "CPU times: user 3.6 s, sys: 24 ms, total: 3.63 s\n",
      "Wall time: 3.67 s\n"
     ]
    }
   ],
   "source": [
    "%%time\n",
    "\n",
    "model_lgb = LGBMRegressor(\n",
    "    n_estimators=40, num_leaves=41, num_iterations=40, learning_rate=0.1778279410038923, random_state=90)\n",
    "model_lgb.fit(features_train, target_train, verbose=False)\n",
    "predictions_valid = model_lgb.predict(features_valid)\n",
    "result_lgb = mean_squared_error(target_valid,predictions_valid) ** 0.5\n",
    "print('RMSE:',result_lgb)"
   ]
  },
  {
   "cell_type": "code",
   "execution_count": 41,
   "metadata": {},
   "outputs": [],
   "source": [
    "#combine the train and valid samples and compare the metrics before and after\n",
    "merge_features = pd.concat([features_train, features_valid])\n",
    "merge_target = pd.concat([target_train, target_valid])"
   ]
  },
  {
   "cell_type": "code",
   "execution_count": 42,
   "metadata": {},
   "outputs": [
    {
     "name": "stdout",
     "output_type": "stream",
     "text": [
      "RMSE: 2925.7610889329103\n",
      "CPU times: user 4.54 s, sys: 41.6 ms, total: 4.58 s\n",
      "Wall time: 4.67 s\n"
     ]
    }
   ],
   "source": [
    "%%time\n",
    "\n",
    "model_lgb = LGBMRegressor(\n",
    "    n_estimators=40, num_leaves=41, num_iterations=40, learning_rate=0.1778279410038923, random_state=90)\n",
    "model_lgb.fit(merge_features, merge_target, verbose=False)\n",
    "predictions_valid = model_lgb.predict(features_valid)\n",
    "result_lgb = mean_squared_error(target_valid,predictions_valid) ** 0.5\n",
    "print('RMSE:',result_lgb)"
   ]
  },
  {
   "cell_type": "markdown",
   "metadata": {},
   "source": [
    "<div class=\"alert alert-info\" style=\"border:solid blue 2px; padding: 20px\"> <b>Conclusion:</b> Metrics after merging are not much better, but better</div>"
   ]
  },
  {
   "cell_type": "markdown",
   "metadata": {},
   "source": [
    "### train the DecisionTreeRegressor model and manually select the best hyperparameters"
   ]
  },
  {
   "cell_type": "code",
   "execution_count": 43,
   "metadata": {},
   "outputs": [
    {
     "name": "stdout",
     "output_type": "stream",
     "text": [
      "RMSE: 3057.7704458448766\n",
      "CPU times: user 543 ms, sys: 0 ns, total: 543 ms\n",
      "Wall time: 577 ms\n"
     ]
    }
   ],
   "source": [
    "%%time\n",
    "\n",
    "model_tree=DecisionTreeRegressor(random_state=90, max_depth=6)\n",
    "model_tree.fit(merge_features, merge_target)\n",
    "predictions_valid=model_tree.predict(features_valid)\n",
    "result_tree=(mean_squared_error(target_valid, predictions_valid))**0.5\n",
    "\n",
    "print('RMSE:', result_tree)  "
   ]
  },
  {
   "cell_type": "markdown",
   "metadata": {},
   "source": [
    "### train the RandomForestRegressor model and select the best hyperparameters"
   ]
  },
  {
   "cell_type": "code",
   "execution_count": 44,
   "metadata": {},
   "outputs": [
    {
     "name": "stdout",
     "output_type": "stream",
     "text": [
      "RMSE: 3102.5820471823467 5 40\n",
      "CPU times: user 1min 40s, sys: 0 ns, total: 1min 40s\n",
      "Wall time: 1min 41s\n"
     ]
    }
   ],
   "source": [
    "%%time\n",
    "\n",
    "best_result=10000\n",
    "best_depth=0\n",
    "best_est = 0\n",
    "for est in range(10,60,10):\n",
    "    for depth in range (1,6):\n",
    "        model_forest=RandomForestRegressor(random_state=90, n_estimators = est, max_depth = depth)\n",
    "        model_forest.fit(features_train, target_train)\n",
    "        predictions_valid=model_forest.predict(features_valid)\n",
    "        result_forest=(mean_squared_error(target_valid, predictions_valid))**0.5\n",
    "        if result_forest<best_result:\n",
    "            best_result=result_forest\n",
    "            best_depth=depth\n",
    "            best_est=est\n",
    "            \n",
    "print('RMSE:', result_forest, best_depth, best_est)  "
   ]
  },
  {
   "cell_type": "code",
   "execution_count": 57,
   "metadata": {},
   "outputs": [
    {
     "name": "stdout",
     "output_type": "stream",
     "text": [
      "3103.965396936793\n"
     ]
    }
   ],
   "source": [
    "model_forest=RandomForestRegressor(random_state=90, n_estimators = 40, max_depth = 5)\n",
    "model_forest.fit(merge_features, merge_target)\n",
    "predictions_valid=model_forest.predict(features_valid)\n",
    "result_forest=(mean_squared_error(target_valid, predictions_valid))**0.5\n",
    "print(result_forest)"
   ]
  },
  {
   "cell_type": "markdown",
   "metadata": {},
   "source": [
    "<div class=\"alert alert-info\" style=\"border:solid blue 2px; padding: 20px\"> <b>Conclusion:</b> Trained 5 different models. For each, we selected hyperparameters and evaluated the quality using the rmse metric. Visualized training and prediction times. We decided on the most suitable models and tested them on a test sample </div>"
   ]
  },
  {
   "cell_type": "markdown",
   "metadata": {},
   "source": [
    "# 3. Analysis"
   ]
  },
  {
   "cell_type": "code",
   "execution_count": 46,
   "metadata": {},
   "outputs": [],
   "source": [
    "#a function that will return training time, prediction time and metric on a test sample\n",
    "def model_time_test(model, X_train, y_train,  X_valid, y_valid, X_test, y_test, cat_features = None):\n",
    "    \n",
    "    begin = time.time()\n",
    "    \n",
    "    if cat_features:\n",
    "        model.fit(X_train, y_train, cat_features=cat_features, verbose=False)\n",
    "    else:\n",
    "        model.fit(X_train, y_train, verbose=False)\n",
    "        \n",
    "\n",
    "    train_time = time.time() - begin\n",
    "    \n",
    "    begin = time.time()  \n",
    "    predictions = model.predict(X_valid)\n",
    "    predictions_time = time.time() - begin\n",
    "    \n",
    "    predictions_test=model.predict(X_test)\n",
    "    test_result=(mean_squared_error(y_test,predictions_test))**0.5\n",
    "\n",
    "    return train_time, predictions_time, test_result"
   ]
  },
  {
   "cell_type": "code",
   "execution_count": 47,
   "metadata": {},
   "outputs": [],
   "source": [
    "#a function that will return training time, prediction time and metric on a test set of other models\n",
    "\n",
    "def simple_model_time_test(model, X_train, y_train,  X_valid, y_valid, X_test, y_test):\n",
    "    \n",
    "    start = time.time()\n",
    "    model.fit(X_train, y_train)\n",
    "    fit_time = time.time() - start\n",
    "    \n",
    "    start = time.time()  \n",
    "    predictions = model.predict(X_valid)\n",
    "    predict_time = time.time() - start\n",
    "    \n",
    "    predict_test=model.predict(X_test)\n",
    "    test_rmse=(mean_squared_error(y_test,predict_test))**0.5\n",
    "    \n",
    "    return fit_time, predict_time, test_rmse   "
   ]
  },
  {
   "cell_type": "code",
   "execution_count": 48,
   "metadata": {},
   "outputs": [
    {
     "name": "stdout",
     "output_type": "stream",
     "text": [
      "3.043647289276123 0.2952001094818115 2931.0907067805506\n"
     ]
    }
   ],
   "source": [
    "train_time_lgb, predictions_time_lgb, test_result_lgb = model_time_test(\n",
    "    model_lgb,features_train,target_train,features_valid, target_valid, features_test, target_test)\n",
    "\n",
    "print(train_time_lgb, predictions_time_lgb, test_result_lgb)"
   ]
  },
  {
   "cell_type": "code",
   "execution_count": 49,
   "metadata": {},
   "outputs": [
    {
     "name": "stdout",
     "output_type": "stream",
     "text": [
      "0.3917245864868164 0.005960226058959961 3050.251953010179\n"
     ]
    }
   ],
   "source": [
    "train_time_tree, predictions_time_tree, test_result_tree= simple_model_time_test(\n",
    "    model_tree,features_train,target_train,features_valid, target_valid,features_test, target_test)\n",
    "\n",
    "print(train_time_tree, predictions_time_tree, test_result_tree)    "
   ]
  },
  {
   "cell_type": "code",
   "execution_count": 50,
   "metadata": {},
   "outputs": [
    {
     "name": "stdout",
     "output_type": "stream",
     "text": [
      "11.102547883987427 0.1378030776977539 3094.1130849682245\n"
     ]
    }
   ],
   "source": [
    "train_time_forest, predictions_time_forest, test_result_forest= simple_model_time_test(\n",
    "    model_forest,features_train,target_train, features_valid, target_valid, features_test, target_test)\n",
    "\n",
    "print(train_time_forest, predictions_time_forest, test_result_forest)  "
   ]
  },
  {
   "cell_type": "code",
   "execution_count": 51,
   "metadata": {},
   "outputs": [
    {
     "data": {
      "image/png": "[encoded data removed]",
      "text/plain": [
       "<Figure size 432x432 with 2 Axes>"
      ]
     },
     "metadata": {
      "needs_background": "light"
     },
     "output_type": "display_data"
    }
   ],
   "source": [
    "import seaborn as sns\n",
    "def heatmap_digit(data, title):\n",
    "    cols = ['Power', 'Kilometer', 'Price']\n",
    "    plt.figure(figsize=(6, 6))\n",
    "    hm = sns.heatmap(data[cols].corr(), cbar=True, annot=True)\n",
    "    plt.title(title)\n",
    "    plt.show();\n",
    "    \n",
    "heatmap_digit(data=data, title='Quantitative features')    "
   ]
  },
  {
   "cell_type": "markdown",
   "metadata": {},
   "source": [
    "<div class=\"alert alert-info\" style=\"border:solid blue 2px; padding: 20px\"> <b>Conclusion:</b> The graph shows that the more powerful the car, the more expensive it is and the inverse relationship between km and price. The more mileage the car has, the lower the price </div>"
   ]
  },
  {
   "cell_type": "code",
   "execution_count": 52,
   "metadata": {},
   "outputs": [
    {
     "data": {
      "text/html": [
       "<div>\n",
       "<style scoped>\n",
       "    .dataframe tbody tr th:only-of-type {\n",
       "        vertical-align: middle;\n",
       "    }\n",
       "\n",
       "    .dataframe tbody tr th {\n",
       "        vertical-align: top;\n",
       "    }\n",
       "\n",
       "    .dataframe thead th {\n",
       "        text-align: right;\n",
       "    }\n",
       "</style>\n",
       "<table border=\"1\" class=\"dataframe\">\n",
       "  <thead>\n",
       "    <tr style=\"text-align: right;\">\n",
       "      <th></th>\n",
       "      <th>trainig_time</th>\n",
       "      <th>predict_time</th>\n",
       "      <th>rmse</th>\n",
       "      <th>test_rmse</th>\n",
       "    </tr>\n",
       "  </thead>\n",
       "  <tbody>\n",
       "    <tr>\n",
       "      <td>CatBoost</td>\n",
       "      <td>33.801816</td>\n",
       "      <td>0.290992</td>\n",
       "      <td>1723.293171</td>\n",
       "      <td>1698.821938</td>\n",
       "    </tr>\n",
       "    <tr>\n",
       "      <td>LightGBM</td>\n",
       "      <td>3.043647</td>\n",
       "      <td>0.295200</td>\n",
       "      <td>2925.761089</td>\n",
       "      <td>2931.090707</td>\n",
       "    </tr>\n",
       "    <tr>\n",
       "      <td>TreeRegressor</td>\n",
       "      <td>0.391725</td>\n",
       "      <td>0.005960</td>\n",
       "      <td>3057.770446</td>\n",
       "      <td>3050.251953</td>\n",
       "    </tr>\n",
       "    <tr>\n",
       "      <td>ForestRegressor</td>\n",
       "      <td>11.102548</td>\n",
       "      <td>0.137803</td>\n",
       "      <td>3104.342159</td>\n",
       "      <td>3094.113085</td>\n",
       "    </tr>\n",
       "  </tbody>\n",
       "</table>\n",
       "</div>"
      ],
      "text/plain": [
       "                 trainig_time  predict_time         rmse    test_rmse\n",
       "CatBoost            33.801816      0.290992  1723.293171  1698.821938\n",
       "LightGBM             3.043647      0.295200  2925.761089  2931.090707\n",
       "TreeRegressor        0.391725      0.005960  3057.770446  3050.251953\n",
       "ForestRegressor     11.102548      0.137803  3104.342159  3094.113085"
      ]
     },
     "execution_count": 52,
     "metadata": {},
     "output_type": "execute_result"
    }
   ],
   "source": [
    "#we will summarize the results of the models in one table\n",
    "results = [\n",
    "    [train_time_boost, predictions_time_boost, result_catboost, test_result_boost],\n",
    "    [train_time_lgb, predictions_time_lgb, result_lgb, test_result_lgb],\n",
    "    [train_time_tree, predictions_time_tree, result_tree, test_result_tree],\n",
    "    [train_time_forest, predictions_time_forest, result_forest, test_result_forest]\n",
    "];\n",
    "pd.DataFrame(data = results,\n",
    "             index=['CatBoost', 'LightGBM', 'TreeRegressor', 'ForestRegressor'],\n",
    "             columns=['trainig_time', 'predict_time', 'rmse', 'test_rmse'])"
   ]
  },
  {
   "cell_type": "code",
   "execution_count": 53,
   "metadata": {},
   "outputs": [],
   "source": [
    "#let's see how the importance of values ​​is distributed according to features in the best model\n",
    "feature_importances = model.get_feature_importance()\n",
    "feature_names = cat_col\n",
    "\n",
    "feature_importances_grid = pd.DataFrame([], columns = ['feature', 'importance'])\n",
    "for score, name in sorted(zip(feature_importances, feature_names), reverse=True):\n",
    "    feature_importances_grid.append([name, score])\n",
    "    feature_importances_grid = feature_importances_grid.append({'feature': name, 'importance': score}, ignore_index=True)   "
   ]
  },
  {
   "cell_type": "code",
   "execution_count": 58,
   "metadata": {},
   "outputs": [
    {
     "data": {
      "image/png": "[encoded data removed]",
      "text/plain": [
       "<Figure size 432x288 with 1 Axes>"
      ]
     },
     "metadata": {
      "needs_background": "light"
     },
     "output_type": "display_data"
    }
   ],
   "source": [
    "feature_importances_grid.plot(kind='bar', grid = True)\n",
    "plt.xlabel('features') \n",
    "plt.ylabel('importance')\n",
    "plt.title('Features importance');"
   ]
  },
  {
   "cell_type": "code",
   "execution_count": 55,
   "metadata": {},
   "outputs": [
    {
     "data": {
      "text/html": [
       "<div>\n",
       "<style scoped>\n",
       "    .dataframe tbody tr th:only-of-type {\n",
       "        vertical-align: middle;\n",
       "    }\n",
       "\n",
       "    .dataframe tbody tr th {\n",
       "        vertical-align: top;\n",
       "    }\n",
       "\n",
       "    .dataframe thead th {\n",
       "        text-align: right;\n",
       "    }\n",
       "</style>\n",
       "<table border=\"1\" class=\"dataframe\">\n",
       "  <thead>\n",
       "    <tr style=\"text-align: right;\">\n",
       "      <th></th>\n",
       "      <th>feature</th>\n",
       "      <th>importance</th>\n",
       "    </tr>\n",
       "  </thead>\n",
       "  <tbody>\n",
       "    <tr>\n",
       "      <td>0</td>\n",
       "      <td>Gearbox</td>\n",
       "      <td>34.299991</td>\n",
       "    </tr>\n",
       "    <tr>\n",
       "      <td>1</td>\n",
       "      <td>FuelType</td>\n",
       "      <td>21.614725</td>\n",
       "    </tr>\n",
       "    <tr>\n",
       "      <td>2</td>\n",
       "      <td>RegistrationYear</td>\n",
       "      <td>13.094563</td>\n",
       "    </tr>\n",
       "    <tr>\n",
       "      <td>3</td>\n",
       "      <td>NotRepaired</td>\n",
       "      <td>8.548276</td>\n",
       "    </tr>\n",
       "    <tr>\n",
       "      <td>4</td>\n",
       "      <td>VehicleType</td>\n",
       "      <td>7.480504</td>\n",
       "    </tr>\n",
       "    <tr>\n",
       "      <td>5</td>\n",
       "      <td>Brand</td>\n",
       "      <td>6.815015</td>\n",
       "    </tr>\n",
       "    <tr>\n",
       "      <td>6</td>\n",
       "      <td>PostalCode</td>\n",
       "      <td>2.332406</td>\n",
       "    </tr>\n",
       "    <tr>\n",
       "      <td>7</td>\n",
       "      <td>Model</td>\n",
       "      <td>1.291045</td>\n",
       "    </tr>\n",
       "  </tbody>\n",
       "</table>\n",
       "</div>"
      ],
      "text/plain": [
       "            feature  importance\n",
       "0           Gearbox   34.299991\n",
       "1          FuelType   21.614725\n",
       "2  RegistrationYear   13.094563\n",
       "3       NotRepaired    8.548276\n",
       "4       VehicleType    7.480504\n",
       "5             Brand    6.815015\n",
       "6        PostalCode    2.332406\n",
       "7             Model    1.291045"
      ]
     },
     "execution_count": 55,
     "metadata": {},
     "output_type": "execute_result"
    }
   ],
   "source": [
    "feature_importances_grid"
   ]
  },
  {
   "cell_type": "markdown",
   "metadata": {},
   "source": [
    "<div class=\"alert alert-info\" style=\"border:solid blue 2px; padding: 20px\"> <b>General conclusion:</b> In the course of all the work, we analyzed 5 different models, in the end we decided on the best one - CatBoost. In terms of the quality of the metric, it wins all other models. The learning speed is, of course, the fastest, but 33 seconds is quite acceptable. The highest degree of importance for the feature is the gearbox and the least importance belongs to the column - model</div>"
   ]
  },
  {
   "cell_type": "code",
   "execution_count": null,
   "metadata": {},
   "outputs": [],
   "source": []
  }
 ],
 "metadata": {
  "kernelspec": {
   "display_name": "Python 3",
   "language": "python",
   "name": "python3"
  },
  "language_info": {
   "codemirror_mode": {
    "name": "ipython",
    "version": 3
   },
   "file_extension": ".py",
   "mimetype": "text/x-python",
   "name": "python",
   "nbconvert_exporter": "python",
   "pygments_lexer": "ipython3",
   "version": "3.8.5"
  }
 },
 "nbformat": 4,
 "nbformat_minor": 2
}
