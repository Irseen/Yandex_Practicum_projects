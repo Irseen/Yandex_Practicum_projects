{
 "cells": [
  {
   "cell_type": "markdown",
   "metadata": {},
   "source": [
    "# The task"
   ]
  },
  {
   "cell_type": "markdown",
   "metadata": {},
   "source": [
    "We have oil samples in three regions: in each of 10,000 fields, where the quality of oil and the volume of its reserves were measured. We need to build a machine learning model that will help determine the region where mining will bring the most profit. Analyze potential rewards and risks with * Bootstrap. *"
   ]
  },
  {
   "cell_type": "markdown",
   "metadata": {},
   "source": [
    "* id — unique identifier of well;\n",
    "* f0, f1, f2 — three signs of dots;\n",
    "* product — well reserves (thousand barrels)."
   ]
  },
  {
   "cell_type": "markdown",
   "metadata": {},
   "source": [
    "<a name=\"1common.\"></a>\n",
    "## <a name=\"0.0\"></a>Table of contents:\n",
    "* [Step 1. Load the data and prepare for their analysis](#1.)\n",
    "* [Step 2. Building and testing a model](#2.)\n",
    "* [Step 3. Preparation for calculating profit](#3.)\n",
    "    \n",
    "* [Step 4. Calculation of profit and risk](#4.)     \n",
    "     \n"
   ]
  },
  {
   "cell_type": "markdown",
   "metadata": {},
   "source": [
    "<a name=\"1.\"></a><br/>\n",
    "<font size=\"5\"><b>1. Load the data and prepare for their analysis</b></font>.<br/>\n",
    "[<font size=\"2\">(to table of contents)</font>](#1common.)"
   ]
  },
  {
   "cell_type": "code",
   "execution_count": 1,
   "metadata": {},
   "outputs": [],
   "source": [
    "import pandas as pd\n",
    "import numpy as np\n",
    "\n",
    "import matplotlib.pyplot as plt\n",
    "import seaborn as sns\n",
    "\n",
    "from sklearn.linear_model import LinearRegression\n",
    "from sklearn.model_selection import train_test_split\n",
    "from sklearn.metrics import mean_squared_error\n",
    "from sklearn.model_selection import cross_val_score\n",
    "from sklearn.model_selection import cross_val_predict\n"
   ]
  },
  {
   "cell_type": "code",
   "execution_count": 2,
   "metadata": {},
   "outputs": [],
   "source": [
    "data_0 = pd.read_csv('datasets/geo_data_0.csv')\n",
    "data_1 = pd.read_csv('datasets/geo_data_1.csv')\n",
    "data_2 = pd.read_csv('datasets/geo_data_2.csv')"
   ]
  },
  {
   "cell_type": "code",
   "execution_count": 3,
   "metadata": {},
   "outputs": [
    {
     "data": {
      "text/html": [
       "<div>\n",
       "<style scoped>\n",
       "    .dataframe tbody tr th:only-of-type {\n",
       "        vertical-align: middle;\n",
       "    }\n",
       "\n",
       "    .dataframe tbody tr th {\n",
       "        vertical-align: top;\n",
       "    }\n",
       "\n",
       "    .dataframe thead th {\n",
       "        text-align: right;\n",
       "    }\n",
       "</style>\n",
       "<table border=\"1\" class=\"dataframe\">\n",
       "  <thead>\n",
       "    <tr style=\"text-align: right;\">\n",
       "      <th></th>\n",
       "      <th>id</th>\n",
       "      <th>f0</th>\n",
       "      <th>f1</th>\n",
       "      <th>f2</th>\n",
       "      <th>product</th>\n",
       "    </tr>\n",
       "  </thead>\n",
       "  <tbody>\n",
       "    <tr>\n",
       "      <th>0</th>\n",
       "      <td>txEyH</td>\n",
       "      <td>0.705745</td>\n",
       "      <td>-0.497823</td>\n",
       "      <td>1.221170</td>\n",
       "      <td>105.280062</td>\n",
       "    </tr>\n",
       "    <tr>\n",
       "      <th>1</th>\n",
       "      <td>2acmU</td>\n",
       "      <td>1.334711</td>\n",
       "      <td>-0.340164</td>\n",
       "      <td>4.365080</td>\n",
       "      <td>73.037750</td>\n",
       "    </tr>\n",
       "    <tr>\n",
       "      <th>2</th>\n",
       "      <td>409Wp</td>\n",
       "      <td>1.022732</td>\n",
       "      <td>0.151990</td>\n",
       "      <td>1.419926</td>\n",
       "      <td>85.265647</td>\n",
       "    </tr>\n",
       "    <tr>\n",
       "      <th>3</th>\n",
       "      <td>iJLyR</td>\n",
       "      <td>-0.032172</td>\n",
       "      <td>0.139033</td>\n",
       "      <td>2.978566</td>\n",
       "      <td>168.620776</td>\n",
       "    </tr>\n",
       "    <tr>\n",
       "      <th>4</th>\n",
       "      <td>Xdl7t</td>\n",
       "      <td>1.988431</td>\n",
       "      <td>0.155413</td>\n",
       "      <td>4.751769</td>\n",
       "      <td>154.036647</td>\n",
       "    </tr>\n",
       "    <tr>\n",
       "      <th>...</th>\n",
       "      <td>...</td>\n",
       "      <td>...</td>\n",
       "      <td>...</td>\n",
       "      <td>...</td>\n",
       "      <td>...</td>\n",
       "    </tr>\n",
       "    <tr>\n",
       "      <th>99995</th>\n",
       "      <td>DLsed</td>\n",
       "      <td>0.971957</td>\n",
       "      <td>0.370953</td>\n",
       "      <td>6.075346</td>\n",
       "      <td>110.744026</td>\n",
       "    </tr>\n",
       "    <tr>\n",
       "      <th>99996</th>\n",
       "      <td>QKivN</td>\n",
       "      <td>1.392429</td>\n",
       "      <td>-0.382606</td>\n",
       "      <td>1.273912</td>\n",
       "      <td>122.346843</td>\n",
       "    </tr>\n",
       "    <tr>\n",
       "      <th>99997</th>\n",
       "      <td>3rnvd</td>\n",
       "      <td>1.029585</td>\n",
       "      <td>0.018787</td>\n",
       "      <td>-1.348308</td>\n",
       "      <td>64.375443</td>\n",
       "    </tr>\n",
       "    <tr>\n",
       "      <th>99998</th>\n",
       "      <td>7kl59</td>\n",
       "      <td>0.998163</td>\n",
       "      <td>-0.528582</td>\n",
       "      <td>1.583869</td>\n",
       "      <td>74.040764</td>\n",
       "    </tr>\n",
       "    <tr>\n",
       "      <th>99999</th>\n",
       "      <td>1CWhH</td>\n",
       "      <td>1.764754</td>\n",
       "      <td>-0.266417</td>\n",
       "      <td>5.722849</td>\n",
       "      <td>149.633246</td>\n",
       "    </tr>\n",
       "  </tbody>\n",
       "</table>\n",
       "<p>100000 rows × 5 columns</p>\n",
       "</div>"
      ],
      "text/plain": [
       "          id        f0        f1        f2     product\n",
       "0      txEyH  0.705745 -0.497823  1.221170  105.280062\n",
       "1      2acmU  1.334711 -0.340164  4.365080   73.037750\n",
       "2      409Wp  1.022732  0.151990  1.419926   85.265647\n",
       "3      iJLyR -0.032172  0.139033  2.978566  168.620776\n",
       "4      Xdl7t  1.988431  0.155413  4.751769  154.036647\n",
       "...      ...       ...       ...       ...         ...\n",
       "99995  DLsed  0.971957  0.370953  6.075346  110.744026\n",
       "99996  QKivN  1.392429 -0.382606  1.273912  122.346843\n",
       "99997  3rnvd  1.029585  0.018787 -1.348308   64.375443\n",
       "99998  7kl59  0.998163 -0.528582  1.583869   74.040764\n",
       "99999  1CWhH  1.764754 -0.266417  5.722849  149.633246\n",
       "\n",
       "[100000 rows x 5 columns]"
      ]
     },
     "execution_count": 3,
     "metadata": {},
     "output_type": "execute_result"
    }
   ],
   "source": [
    "data_0"
   ]
  },
  {
   "cell_type": "code",
   "execution_count": 4,
   "metadata": {},
   "outputs": [
    {
     "data": {
      "text/html": [
       "<div>\n",
       "<style scoped>\n",
       "    .dataframe tbody tr th:only-of-type {\n",
       "        vertical-align: middle;\n",
       "    }\n",
       "\n",
       "    .dataframe tbody tr th {\n",
       "        vertical-align: top;\n",
       "    }\n",
       "\n",
       "    .dataframe thead th {\n",
       "        text-align: right;\n",
       "    }\n",
       "</style>\n",
       "<table border=\"1\" class=\"dataframe\">\n",
       "  <thead>\n",
       "    <tr style=\"text-align: right;\">\n",
       "      <th></th>\n",
       "      <th>id</th>\n",
       "      <th>f0</th>\n",
       "      <th>f1</th>\n",
       "      <th>f2</th>\n",
       "      <th>product</th>\n",
       "    </tr>\n",
       "  </thead>\n",
       "  <tbody>\n",
       "    <tr>\n",
       "      <th>0</th>\n",
       "      <td>kBEdx</td>\n",
       "      <td>-15.001348</td>\n",
       "      <td>-8.276000</td>\n",
       "      <td>-0.005876</td>\n",
       "      <td>3.179103</td>\n",
       "    </tr>\n",
       "    <tr>\n",
       "      <th>1</th>\n",
       "      <td>62mP7</td>\n",
       "      <td>14.272088</td>\n",
       "      <td>-3.475083</td>\n",
       "      <td>0.999183</td>\n",
       "      <td>26.953261</td>\n",
       "    </tr>\n",
       "    <tr>\n",
       "      <th>2</th>\n",
       "      <td>vyE1P</td>\n",
       "      <td>6.263187</td>\n",
       "      <td>-5.948386</td>\n",
       "      <td>5.001160</td>\n",
       "      <td>134.766305</td>\n",
       "    </tr>\n",
       "    <tr>\n",
       "      <th>3</th>\n",
       "      <td>KcrkZ</td>\n",
       "      <td>-13.081196</td>\n",
       "      <td>-11.506057</td>\n",
       "      <td>4.999415</td>\n",
       "      <td>137.945408</td>\n",
       "    </tr>\n",
       "    <tr>\n",
       "      <th>4</th>\n",
       "      <td>AHL4O</td>\n",
       "      <td>12.702195</td>\n",
       "      <td>-8.147433</td>\n",
       "      <td>5.004363</td>\n",
       "      <td>134.766305</td>\n",
       "    </tr>\n",
       "    <tr>\n",
       "      <th>...</th>\n",
       "      <td>...</td>\n",
       "      <td>...</td>\n",
       "      <td>...</td>\n",
       "      <td>...</td>\n",
       "      <td>...</td>\n",
       "    </tr>\n",
       "    <tr>\n",
       "      <th>99995</th>\n",
       "      <td>QywKC</td>\n",
       "      <td>9.535637</td>\n",
       "      <td>-6.878139</td>\n",
       "      <td>1.998296</td>\n",
       "      <td>53.906522</td>\n",
       "    </tr>\n",
       "    <tr>\n",
       "      <th>99996</th>\n",
       "      <td>ptvty</td>\n",
       "      <td>-10.160631</td>\n",
       "      <td>-12.558096</td>\n",
       "      <td>5.005581</td>\n",
       "      <td>137.945408</td>\n",
       "    </tr>\n",
       "    <tr>\n",
       "      <th>99997</th>\n",
       "      <td>09gWa</td>\n",
       "      <td>-7.378891</td>\n",
       "      <td>-3.084104</td>\n",
       "      <td>4.998651</td>\n",
       "      <td>137.945408</td>\n",
       "    </tr>\n",
       "    <tr>\n",
       "      <th>99998</th>\n",
       "      <td>rqwUm</td>\n",
       "      <td>0.665714</td>\n",
       "      <td>-6.152593</td>\n",
       "      <td>1.000146</td>\n",
       "      <td>30.132364</td>\n",
       "    </tr>\n",
       "    <tr>\n",
       "      <th>99999</th>\n",
       "      <td>relB0</td>\n",
       "      <td>-3.426139</td>\n",
       "      <td>-7.794274</td>\n",
       "      <td>-0.003299</td>\n",
       "      <td>3.179103</td>\n",
       "    </tr>\n",
       "  </tbody>\n",
       "</table>\n",
       "<p>100000 rows × 5 columns</p>\n",
       "</div>"
      ],
      "text/plain": [
       "          id         f0         f1        f2     product\n",
       "0      kBEdx -15.001348  -8.276000 -0.005876    3.179103\n",
       "1      62mP7  14.272088  -3.475083  0.999183   26.953261\n",
       "2      vyE1P   6.263187  -5.948386  5.001160  134.766305\n",
       "3      KcrkZ -13.081196 -11.506057  4.999415  137.945408\n",
       "4      AHL4O  12.702195  -8.147433  5.004363  134.766305\n",
       "...      ...        ...        ...       ...         ...\n",
       "99995  QywKC   9.535637  -6.878139  1.998296   53.906522\n",
       "99996  ptvty -10.160631 -12.558096  5.005581  137.945408\n",
       "99997  09gWa  -7.378891  -3.084104  4.998651  137.945408\n",
       "99998  rqwUm   0.665714  -6.152593  1.000146   30.132364\n",
       "99999  relB0  -3.426139  -7.794274 -0.003299    3.179103\n",
       "\n",
       "[100000 rows x 5 columns]"
      ]
     },
     "execution_count": 4,
     "metadata": {},
     "output_type": "execute_result"
    }
   ],
   "source": [
    "data_1"
   ]
  },
  {
   "cell_type": "code",
   "execution_count": 5,
   "metadata": {},
   "outputs": [
    {
     "data": {
      "text/html": [
       "<div>\n",
       "<style scoped>\n",
       "    .dataframe tbody tr th:only-of-type {\n",
       "        vertical-align: middle;\n",
       "    }\n",
       "\n",
       "    .dataframe tbody tr th {\n",
       "        vertical-align: top;\n",
       "    }\n",
       "\n",
       "    .dataframe thead th {\n",
       "        text-align: right;\n",
       "    }\n",
       "</style>\n",
       "<table border=\"1\" class=\"dataframe\">\n",
       "  <thead>\n",
       "    <tr style=\"text-align: right;\">\n",
       "      <th></th>\n",
       "      <th>id</th>\n",
       "      <th>f0</th>\n",
       "      <th>f1</th>\n",
       "      <th>f2</th>\n",
       "      <th>product</th>\n",
       "    </tr>\n",
       "  </thead>\n",
       "  <tbody>\n",
       "    <tr>\n",
       "      <th>0</th>\n",
       "      <td>fwXo0</td>\n",
       "      <td>-1.146987</td>\n",
       "      <td>0.963328</td>\n",
       "      <td>-0.828965</td>\n",
       "      <td>27.758673</td>\n",
       "    </tr>\n",
       "    <tr>\n",
       "      <th>1</th>\n",
       "      <td>WJtFt</td>\n",
       "      <td>0.262778</td>\n",
       "      <td>0.269839</td>\n",
       "      <td>-2.530187</td>\n",
       "      <td>56.069697</td>\n",
       "    </tr>\n",
       "    <tr>\n",
       "      <th>2</th>\n",
       "      <td>ovLUW</td>\n",
       "      <td>0.194587</td>\n",
       "      <td>0.289035</td>\n",
       "      <td>-5.586433</td>\n",
       "      <td>62.871910</td>\n",
       "    </tr>\n",
       "    <tr>\n",
       "      <th>3</th>\n",
       "      <td>q6cA6</td>\n",
       "      <td>2.236060</td>\n",
       "      <td>-0.553760</td>\n",
       "      <td>0.930038</td>\n",
       "      <td>114.572842</td>\n",
       "    </tr>\n",
       "    <tr>\n",
       "      <th>4</th>\n",
       "      <td>WPMUX</td>\n",
       "      <td>-0.515993</td>\n",
       "      <td>1.716266</td>\n",
       "      <td>5.899011</td>\n",
       "      <td>149.600746</td>\n",
       "    </tr>\n",
       "    <tr>\n",
       "      <th>...</th>\n",
       "      <td>...</td>\n",
       "      <td>...</td>\n",
       "      <td>...</td>\n",
       "      <td>...</td>\n",
       "      <td>...</td>\n",
       "    </tr>\n",
       "    <tr>\n",
       "      <th>99995</th>\n",
       "      <td>4GxBu</td>\n",
       "      <td>-1.777037</td>\n",
       "      <td>1.125220</td>\n",
       "      <td>6.263374</td>\n",
       "      <td>172.327046</td>\n",
       "    </tr>\n",
       "    <tr>\n",
       "      <th>99996</th>\n",
       "      <td>YKFjq</td>\n",
       "      <td>-1.261523</td>\n",
       "      <td>-0.894828</td>\n",
       "      <td>2.524545</td>\n",
       "      <td>138.748846</td>\n",
       "    </tr>\n",
       "    <tr>\n",
       "      <th>99997</th>\n",
       "      <td>tKPY3</td>\n",
       "      <td>-1.199934</td>\n",
       "      <td>-2.957637</td>\n",
       "      <td>5.219411</td>\n",
       "      <td>157.080080</td>\n",
       "    </tr>\n",
       "    <tr>\n",
       "      <th>99998</th>\n",
       "      <td>nmxp2</td>\n",
       "      <td>-2.419896</td>\n",
       "      <td>2.417221</td>\n",
       "      <td>-5.548444</td>\n",
       "      <td>51.795253</td>\n",
       "    </tr>\n",
       "    <tr>\n",
       "      <th>99999</th>\n",
       "      <td>V9kWn</td>\n",
       "      <td>-2.551421</td>\n",
       "      <td>-2.025625</td>\n",
       "      <td>6.090891</td>\n",
       "      <td>102.775767</td>\n",
       "    </tr>\n",
       "  </tbody>\n",
       "</table>\n",
       "<p>100000 rows × 5 columns</p>\n",
       "</div>"
      ],
      "text/plain": [
       "          id        f0        f1        f2     product\n",
       "0      fwXo0 -1.146987  0.963328 -0.828965   27.758673\n",
       "1      WJtFt  0.262778  0.269839 -2.530187   56.069697\n",
       "2      ovLUW  0.194587  0.289035 -5.586433   62.871910\n",
       "3      q6cA6  2.236060 -0.553760  0.930038  114.572842\n",
       "4      WPMUX -0.515993  1.716266  5.899011  149.600746\n",
       "...      ...       ...       ...       ...         ...\n",
       "99995  4GxBu -1.777037  1.125220  6.263374  172.327046\n",
       "99996  YKFjq -1.261523 -0.894828  2.524545  138.748846\n",
       "99997  tKPY3 -1.199934 -2.957637  5.219411  157.080080\n",
       "99998  nmxp2 -2.419896  2.417221 -5.548444   51.795253\n",
       "99999  V9kWn -2.551421 -2.025625  6.090891  102.775767\n",
       "\n",
       "[100000 rows x 5 columns]"
      ]
     },
     "execution_count": 5,
     "metadata": {},
     "output_type": "execute_result"
    }
   ],
   "source": [
    "data_2"
   ]
  },
  {
   "cell_type": "code",
   "execution_count": 6,
   "metadata": {},
   "outputs": [
    {
     "name": "stdout",
     "output_type": "stream",
     "text": [
      "0 0 0\n"
     ]
    }
   ],
   "source": [
    "print(data_0.duplicated().sum(), data_1.duplicated().sum(), data_2.duplicated().sum())"
   ]
  },
  {
   "cell_type": "code",
   "execution_count": 7,
   "metadata": {},
   "outputs": [
    {
     "name": "stdout",
     "output_type": "stream",
     "text": [
      "<class 'pandas.core.frame.DataFrame'>\n",
      "RangeIndex: 100000 entries, 0 to 99999\n",
      "Data columns (total 5 columns):\n",
      " #   Column   Non-Null Count   Dtype  \n",
      "---  ------   --------------   -----  \n",
      " 0   id       100000 non-null  object \n",
      " 1   f0       100000 non-null  float64\n",
      " 2   f1       100000 non-null  float64\n",
      " 3   f2       100000 non-null  float64\n",
      " 4   product  100000 non-null  float64\n",
      "dtypes: float64(4), object(1)\n",
      "memory usage: 3.8+ MB\n"
     ]
    }
   ],
   "source": [
    "data_0.info()"
   ]
  },
  {
   "cell_type": "code",
   "execution_count": 8,
   "metadata": {},
   "outputs": [
    {
     "name": "stdout",
     "output_type": "stream",
     "text": [
      "<class 'pandas.core.frame.DataFrame'>\n",
      "RangeIndex: 100000 entries, 0 to 99999\n",
      "Data columns (total 5 columns):\n",
      " #   Column   Non-Null Count   Dtype  \n",
      "---  ------   --------------   -----  \n",
      " 0   id       100000 non-null  object \n",
      " 1   f0       100000 non-null  float64\n",
      " 2   f1       100000 non-null  float64\n",
      " 3   f2       100000 non-null  float64\n",
      " 4   product  100000 non-null  float64\n",
      "dtypes: float64(4), object(1)\n",
      "memory usage: 3.8+ MB\n"
     ]
    }
   ],
   "source": [
    "data_1.info()"
   ]
  },
  {
   "cell_type": "code",
   "execution_count": 9,
   "metadata": {},
   "outputs": [
    {
     "name": "stdout",
     "output_type": "stream",
     "text": [
      "<class 'pandas.core.frame.DataFrame'>\n",
      "RangeIndex: 100000 entries, 0 to 99999\n",
      "Data columns (total 5 columns):\n",
      " #   Column   Non-Null Count   Dtype  \n",
      "---  ------   --------------   -----  \n",
      " 0   id       100000 non-null  object \n",
      " 1   f0       100000 non-null  float64\n",
      " 2   f1       100000 non-null  float64\n",
      " 3   f2       100000 non-null  float64\n",
      " 4   product  100000 non-null  float64\n",
      "dtypes: float64(4), object(1)\n",
      "memory usage: 3.8+ MB\n"
     ]
    }
   ],
   "source": [
    "data_2.info()"
   ]
  },
  {
   "cell_type": "markdown",
   "metadata": {},
   "source": [
    "<div class=\"alert alert-info\" style=\"border:solid blue 2px; padding: 20px\"> <b>Conclusion:</b> The data were loaded. Datasets consist of 4 columns and 100,000 rows. There are no complete duplicates or gaps. Good quality data. </div>\n"
   ]
  },
  {
   "cell_type": "code",
   "execution_count": 10,
   "metadata": {},
   "outputs": [
    {
     "name": "stdout",
     "output_type": "stream",
     "text": [
      "Slope: 6.59\n",
      "Intercept: 76.00\n"
     ]
    },
    {
     "data": {
      "image/png": "[encoded data removed]",
      "text/plain": [
       "<Figure size 432x288 with 1 Axes>"
      ]
     },
     "metadata": {
      "needs_background": "light"
     },
     "output_type": "display_data"
    }
   ],
   "source": [
    "#let's see if there is a direct relationship between the features and the target features\n",
    "def heatmap(data, title):\n",
    "    cols = ['f0', 'f1', 'f2', 'product']\n",
    "    plt.figure(figsize=(6, 6))\n",
    "    hm = sns.heatmap(data[cols].corr(), cbar=True, annot=True)\n",
    "    plt.title(title)\n",
    "    plt.show();\n",
    "    \n",
    "\n",
    "def linear_regression(data, title, xlabel, ylabel):\n",
    "    X = data[['f2']].values\n",
    "    y = data['product'].values\n",
    "    slr = LinearRegression()\n",
    "    slr.fit(X, y)\n",
    "    y_pred = slr.predict(X)\n",
    "    print('Slope: {:.2f}'.format(slr.coef_[0]))\n",
    "    print('Intercept: {:.2f}'.format(slr.intercept_))\n",
    "    plt.scatter(X, y)\n",
    "    plt.plot(X, y_pred, color='red', linewidth=2)\n",
    "    plt.title(title)\n",
    "    plt.xlabel(xlabel)\n",
    "    plt.ylabel(ylabel);\n",
    "\n",
    "linear_regression(data_0,'relationship between the features and the target features', 'feature', 'product')"
   ]
  },
  {
   "cell_type": "code",
   "execution_count": 11,
   "metadata": {},
   "outputs": [
    {
     "name": "stdout",
     "output_type": "stream",
     "text": [
      "Slope: 26.95\n",
      "Intercept: 1.59\n"
     ]
    },
    {
     "data": {
      "image/png": "[encoded data removed]",
      "text/plain": [
       "<Figure size 432x288 with 1 Axes>"
      ]
     },
     "metadata": {
      "needs_background": "light"
     },
     "output_type": "display_data"
    }
   ],
   "source": [
    "linear_regression(data_1,'relationship between the features and the target features', 'feature', 'product')"
   ]
  },
  {
   "cell_type": "code",
   "execution_count": 12,
   "metadata": {},
   "outputs": [
    {
     "name": "stdout",
     "output_type": "stream",
     "text": [
      "Slope: 5.74\n",
      "Intercept: 80.67\n"
     ]
    },
    {
     "data": {
      "image/png": "[encoded data removed]",
      "text/plain": [
       "<Figure size 432x288 with 1 Axes>"
      ]
     },
     "metadata": {
      "needs_background": "light"
     },
     "output_type": "display_data"
    }
   ],
   "source": [
    "linear_regression(data_2,'relationship between the features and the target features', 'feature', 'product')"
   ]
  },
  {
   "cell_type": "code",
   "execution_count": 13,
   "metadata": {},
   "outputs": [
    {
     "data": {
      "image/png": "[encoded data removed]",
      "text/plain": [
       "<Figure size 432x432 with 2 Axes>"
      ]
     },
     "metadata": {
      "needs_background": "light"
     },
     "output_type": "display_data"
    },
    {
     "data": {
      "image/png": "[encoded data removed]",
      "text/plain": [
       "<Figure size 432x432 with 2 Axes>"
      ]
     },
     "metadata": {
      "needs_background": "light"
     },
     "output_type": "display_data"
    },
    {
     "data": {
      "image/png": "[encoded data removed]",
      "text/plain": [
       "<Figure size 432x432 with 2 Axes>"
      ]
     },
     "metadata": {
      "needs_background": "light"
     },
     "output_type": "display_data"
    }
   ],
   "source": [
    "heatmap(data_0, 'Correlation of location 0')\n",
    "heatmap(data_1, 'Correlation of location 1')\n",
    "heatmap(data_2, 'Correlation of location 2')"
   ]
  },
  {
   "cell_type": "markdown",
   "metadata": {},
   "source": [
    "<div class=\"alert alert-info\" style=\"border:solid blue 2px; padding: 20px\"> <b>Conclusion:</b> The graphs clearly show that only data from dataset # 1 has a direct relationship between the feature and the target feature. It can be assumed that this is the most promising option..</div>"
   ]
  },
  {
   "cell_type": "code",
   "execution_count": 14,
   "metadata": {
    "scrolled": true
   },
   "outputs": [],
   "source": [
    "#combine all the tables to build a histogram and see the volume of oil production by location\n",
    "data_0['location'] = 'Location_0'\n",
    "data_1['location'] = 'Location_1'\n",
    "data_2['location'] = 'Location_2'\n",
    "data = data_0.append(data_1.append(data_2))"
   ]
  },
  {
   "cell_type": "code",
   "execution_count": 15,
   "metadata": {},
   "outputs": [
    {
     "data": {
      "text/plain": [
       "Text(0, 0.5, 'число значений')"
      ]
     },
     "execution_count": 15,
     "metadata": {},
     "output_type": "execute_result"
    },
    {
     "data": {
      "image/png": "[encoded data removed]",
      "text/plain": [
       "<Figure size 432x288 with 1 Axes>"
      ]
     },
     "metadata": {
      "needs_background": "light"
     },
     "output_type": "display_data"
    }
   ],
   "source": [
    "#for clarity, divide the data by 1000\n",
    "data['product'] = data['product'] / 1000\n",
    "test = data.pivot_table(columns='location', values='product', aggfunc='sum')\n",
    "\n",
    "test.plot(kind='bar', title = 'Oil production', grid = True);\n",
    "plt.xlabel('Product')\n",
    "plt.ylabel('number of values')"
   ]
  },
  {
   "cell_type": "code",
   "execution_count": 16,
   "metadata": {},
   "outputs": [],
   "source": [
    "#return our datasets to their original form.\n",
    "data_0 = data_0.drop(['location'], axis = 1)\n",
    "data_1 = data_1.drop(['location'], axis = 1)\n",
    "data_2 = data_2.drop(['location'], axis = 1)"
   ]
  },
  {
   "cell_type": "markdown",
   "metadata": {},
   "source": [
    "<div class=\"alert alert-info\" style=\"border:solid blue 2px; padding: 20px\"> <b>Conclusion:</b> \n",
    "Judging by the graph, the largest oil reserves are in geolocation 2, location 0 is slightly behind and in third place is location 1</div>"
   ]
  },
  {
   "cell_type": "code",
   "execution_count": null,
   "metadata": {},
   "outputs": [],
   "source": []
  },
  {
   "cell_type": "markdown",
   "metadata": {},
   "source": [
    "<a name=\"1.\"></a><br/>\n",
    "<font size=\"5\"><b>2. Building and testing a model</b></font>.<br/>\n",
    "[<font size=\"2\">(to table of contents)</font>](#1common.)"
   ]
  },
  {
   "cell_type": "code",
   "execution_count": 17,
   "metadata": {},
   "outputs": [],
   "source": [
    "# select the features and the target feature\n",
    "features_0=data_0.drop(['id', 'product'], axis = 1)\n",
    "target_0 = data_0['product']\n",
    "\n",
    "features_1=data_1.drop(['id', 'product'], axis = 1)\n",
    "target_1 = data_1['product']\n",
    "\n",
    "features_2=data_2.drop(['id', 'product'], axis = 1)\n",
    "target_2 = data_2['product']\n"
   ]
  },
  {
   "cell_type": "code",
   "execution_count": 18,
   "metadata": {},
   "outputs": [
    {
     "name": "stdout",
     "output_type": "stream",
     "text": [
      "Локация 0\n",
      "Обучающая выборка (75000, 3)\n",
      "Обучающая выборка (75000,)\n",
      "Валидационная выборка (25000, 3)\n",
      "Валидационная выборка (25000,)\n"
     ]
    }
   ],
   "source": [
    "#divide the data into training and validation samples\n",
    "state = np.random.RandomState(90)\n",
    "\n",
    "features_train_0, features_valid_0, target_train_0, target_valid_0 = train_test_split(\n",
    "    features_0, target_0, test_size = 0.25, random_state = state)\n",
    "\n",
    "features_train_1, features_valid_1, target_train_1, target_valid_1 = train_test_split(\n",
    "    features_1, target_1, test_size = 0.25, random_state = state)\n",
    "\n",
    "features_train_2, features_valid_2, target_train_2, target_valid_2 = train_test_split(\n",
    "    features_2, target_2, test_size = 0.25, random_state = state)\n",
    "\n",
    "print('Локация 0')\n",
    "print('Training sample', features_train_0.shape)\n",
    "print('Training sample', target_train_0.shape)\n",
    "print('Validation sample', features_valid_0.shape)\n",
    "print('Validation sample', target_valid_0.shape)"
   ]
  },
  {
   "cell_type": "code",
   "execution_count": 19,
   "metadata": {},
   "outputs": [
    {
     "name": "stdout",
     "output_type": "stream",
     "text": [
      "Локация 1\n",
      "Обучающая выборка (75000, 3)\n",
      "Обучающая выборка (75000,)\n",
      "Валидационная выборка (25000, 3)\n",
      "Валидационная выборка (25000,)\n"
     ]
    }
   ],
   "source": [
    "print('Локация 1')\n",
    "print('Training sample', features_train_1.shape)\n",
    "print('Training sample', target_train_1.shape)\n",
    "print('Validation sample', features_valid_1.shape)\n",
    "print('Validation sample', target_valid_1.shape)"
   ]
  },
  {
   "cell_type": "code",
   "execution_count": 20,
   "metadata": {},
   "outputs": [
    {
     "name": "stdout",
     "output_type": "stream",
     "text": [
      "Локация 2\n",
      "Обучающая выборка (75000, 3)\n",
      "Обучающая выборка (75000,)\n",
      "Валидационная выборка (25000, 3)\n",
      "Валидационная выборка (25000,)\n"
     ]
    }
   ],
   "source": [
    "print('Локация 2')\n",
    "print('Training sample', features_train_2.shape)\n",
    "print('Training sample', target_train_2.shape)\n",
    "print('Validation sample', features_valid_2.shape)\n",
    "print('Validation sample', target_valid_2.shape)"
   ]
  },
  {
   "cell_type": "code",
   "execution_count": 21,
   "metadata": {},
   "outputs": [
    {
     "name": "stdout",
     "output_type": "stream",
     "text": [
      "Предсказания: [104.8306061  144.75874428  88.20186742 ... 101.34276797  71.38978955\n",
      "  99.14502195]\n",
      "\n",
      "Правильные ответы: [ 57.37748491 149.98170078  82.63718437 ... 175.57222627  85.67667703\n",
      " 109.25399389]\n",
      "\n"
     ]
    }
   ],
   "source": [
    "# train a linear regression model for each geolocation\n",
    "# I think that it is not advisable to write a function here, because in the future we will need the \"Predictions\" variables\n",
    "# and \"Correct answers\" for each location separately\n",
    "\n",
    "model_0 = LinearRegression()\n",
    "model_0.fit(features_train_0, target_train_0)\n",
    "predictions_valid_0 = model_0.predict(features_valid_0)\n",
    "answers_0 = target_valid_0.values\n",
    "\n",
    "print('Predictions:',predictions_valid_0)\n",
    "print()\n",
    "print('Correct answers:', answers_0)\n",
    "print()"
   ]
  },
  {
   "cell_type": "code",
   "execution_count": 22,
   "metadata": {},
   "outputs": [
    {
     "name": "stdout",
     "output_type": "stream",
     "text": [
      "Предсказания: [135.40259651  83.14188131   2.16768219 ...  82.11295612  29.89628997\n",
      "  82.29103059]\n",
      "\n",
      "Правильные ответы: [134.76630516  84.03888568   3.17910258 ...  80.85978309  30.13236361\n",
      "  84.03888568]\n",
      "\n"
     ]
    }
   ],
   "source": [
    "model_1 = LinearRegression()\n",
    "model_1.fit(features_train_1, target_train_1)\n",
    "predictions_valid_1 = model_1.predict(features_valid_1)\n",
    "answers_1 = target_valid_1.values\n",
    "\n",
    "print('Predictions:',predictions_valid_1)\n",
    "print()\n",
    "print('Correct answers:', answers_1)\n",
    "print()"
   ]
  },
  {
   "cell_type": "code",
   "execution_count": 23,
   "metadata": {},
   "outputs": [
    {
     "name": "stdout",
     "output_type": "stream",
     "text": [
      "Предсказания: [125.35738807  76.86594676  67.50330116 ... 130.72363748 105.84011074\n",
      " 122.41772307]\n",
      "\n",
      "Правильные ответы: [136.7199655   45.32749417  57.91597659 ... 124.26888601  77.0784483\n",
      "  56.59582047]\n",
      "\n"
     ]
    }
   ],
   "source": [
    "model_2 = LinearRegression()\n",
    "model_2.fit(features_train_2, target_train_2)\n",
    "predictions_valid_2 = model_2.predict(features_valid_2)\n",
    "answers_2 = target_valid_2.values\n",
    "\n",
    "print('Predictions:',predictions_valid_2)\n",
    "print()\n",
    "print('Correct answers:', answers_2)\n",
    "print()"
   ]
  },
  {
   "cell_type": "code",
   "execution_count": 24,
   "metadata": {},
   "outputs": [
    {
     "name": "stdout",
     "output_type": "stream",
     "text": [
      "RMSE модели_0: 37.6944197744771\n",
      "RMSE модели_1: 0.8904251770787283\n",
      "RMSE модели_2: 40.056773105192946\n"
     ]
    }
   ],
   "source": [
    "#calculate the RMSE of the models using cross_val_score\n",
    "def cross_score(model, features, target):\n",
    "    cross = cross_val_score(model, features, target, cv=4, scoring='neg_mean_squared_error')\n",
    "    final_score = cross.sum()/len(cross)\n",
    "    final_score=(-final_score)\n",
    "    final_score=final_score**0.5\n",
    "    return final_score\n",
    "    \n",
    "print('RMSE model_0:', cross_score(model_0, features_0, target_0)) \n",
    "print('RMSE model_1:', cross_score(model_1, features_1, target_1))\n",
    "print('RMSE model_2:', cross_score(model_2, features_2, target_2)) "
   ]
  },
  {
   "cell_type": "code",
   "execution_count": 25,
   "metadata": {},
   "outputs": [
    {
     "name": "stdout",
     "output_type": "stream",
     "text": [
      "RMSE модели_0: 37.78439328352742\n",
      "RMSE модели_1: 0.889135553827425\n",
      "RMSE модели_2: 40.07883280673756\n"
     ]
    }
   ],
   "source": [
    "#check the RMSE value in another way\n",
    "print('RMSE model_0:',(mean_squared_error(target_valid_0,predictions_valid_0 ))**0.5)\n",
    "print('RMSE model_1:',(mean_squared_error(target_valid_1,predictions_valid_1 ))**0.5)\n",
    "print('RMSE model_2:',(mean_squared_error(target_valid_2,predictions_valid_2 ))**0.5)"
   ]
  },
  {
   "cell_type": "code",
   "execution_count": 26,
   "metadata": {},
   "outputs": [
    {
     "name": "stdout",
     "output_type": "stream",
     "text": [
      "Cредний запас предсказанного сырья модели_0: 92.47 тыс. баррелей\n",
      "Cредний запас предсказанного сырья модели_1: 68.66 тыс. баррелей\n",
      "Cредний запас предсказанного сырья модели_2: 95.21 тыс. баррелей\n"
     ]
    }
   ],
   "source": [
    "predictions_valid_0_mean=pd.Series(predictions_valid_0).mean()\n",
    "print('Average stock of predicted raw materials of model_0: {:.2f}' .format(predictions_valid_0_mean), 'thousand barrels')\n",
    "predictions_valid_1_mean=pd.Series(predictions_valid_1).mean()\n",
    "print('Average stock of predicted raw materials of model_1: {:.2f}' .format(predictions_valid_1_mean),'thousand barrels')\n",
    "predictions_valid_2_mean=pd.Series(predictions_valid_2).mean()\n",
    "print('Average stock of predicted raw materials of model_2: {:.2f}' .format(predictions_valid_2_mean), 'thousand barrels')\n"
   ]
  },
  {
   "cell_type": "markdown",
   "metadata": {},
   "source": [
    "<div class=\"alert alert-info\" style=\"border:solid blue 2px; padding: 20px\"> <b>Conclusion:</b> We trained the model, displayed the predictions and correct answers for the validation set (25% of our data). Even with the naked eye, you can see that the values ​​of the predictions and correct answers of the model for location 1 are very similar. Which is to be expected when recalling our dependence and correlation graph. We calculated the RMSE value for each location in two ways. The lower the RMSE value, the better. The value of the model from location 1 confirms all of the above. However, the average stock of predicted raw materials at location 1 is the smallest, but it must be borne in mind that so far this particular location wins in quality. Perhaps the data from locations 0 and 2 is very different from reality, given the RMSE metric (mean deviation (error))</div>"
   ]
  },
  {
   "cell_type": "markdown",
   "metadata": {},
   "source": [
    "<a name=\"1.\"></a><br/>\n",
    "<font size=\"5\"><b>3. Preparation for calculating profit</b></font>.<br/>\n",
    "[<font size=\"2\">(to table of contents)</font>](#1common.)"
   ]
  },
  {
   "cell_type": "code",
   "execution_count": 27,
   "metadata": {},
   "outputs": [
    {
     "name": "stdout",
     "output_type": "stream",
     "text": [
      "Минимальное количество нефти, которое должно быть в скважине для ликвидности 111 бареля\n"
     ]
    }
   ],
   "source": [
    "budjet = 10000000000\n",
    "income_barrel = 450000\n",
    "research = 500\n",
    "best = 200\n",
    "\n",
    "#Let's calculate the minimum volume of oil that must be in each well for its liquidity\n",
    "print('The minimum amount of oil that must be in the well for liquidity',round(budjet / 200 / 450000),'barrels')\n",
    "\n",
    "def cal_profit(data, geo):\n",
    "    # Let's calculate the profit of each well\n",
    "    data['income'] = data['product'] * 450000\n",
    "\n",
    "    # We divide the Budget by the number of wells -> we will get the minimum amount that we need to get from one well\n",
    "    data['profitable'] = np.where(data['income'] > budjet / 100000, 1, 0)\n",
    "    print('Illiquid wells in the location', geo,  data.query('profitable == 0')['profitable'].value_counts()[0])\n",
    "    print('Liquid wells in the location', geo, data.query('profitable == 1')['profitable'].value_counts()[1])"
   ]
  },
  {
   "cell_type": "code",
   "execution_count": 28,
   "metadata": {},
   "outputs": [
    {
     "name": "stdout",
     "output_type": "stream",
     "text": [
      "Неликвидных скважин в локации 0 46\n",
      "Ликвидных скважин в локации 0 99954\n"
     ]
    }
   ],
   "source": [
    "cal_profit(data_0, '0')"
   ]
  },
  {
   "cell_type": "code",
   "execution_count": 29,
   "metadata": {},
   "outputs": [
    {
     "name": "stdout",
     "output_type": "stream",
     "text": [
      "Неликвидных скважин в локации 1 8235\n",
      "Ликвидных скважин в локации 1 91765\n"
     ]
    }
   ],
   "source": [
    "cal_profit(data_1, '1')"
   ]
  },
  {
   "cell_type": "code",
   "execution_count": 30,
   "metadata": {},
   "outputs": [
    {
     "name": "stdout",
     "output_type": "stream",
     "text": [
      "Неликвидных скважин в локации 2 53\n",
      "Ликвидных скважин в локации 2 99947\n"
     ]
    }
   ],
   "source": [
    "cal_profit(data_2, '2')"
   ]
  },
  {
   "cell_type": "markdown",
   "metadata": {},
   "source": [
    "<div class=\"alert alert-info\" style=\"border:solid blue 2px; padding: 20px\"> <b>Conclusion:</b> We calculated the minimum oil reserve for a well, taking into account the conditions of the problem (200 wells of the same geolocation, budget 10 billion dollars). It turns out that all locations satisfy the condition. The average well stock is over 111 barrels. Profit was calculated for each well and added to an additional column. 1 - a sinkhole will bring more profit than the spent budget for development (> 10 trillion rubles), 0 - a sinkhole will be unprofitable). It turns out that there are more unprofitable wells in location 1, but this is not bad. Because the company as a whole only designs the top 200. </div>"
   ]
  },
  {
   "cell_type": "markdown",
   "metadata": {},
   "source": [
    "<a name=\"1.\"></a><br/>\n",
    "<font size=\"5\"><b> 4. Calculation of profit and risk</b></font>.<br/>\n",
    "[<font size=\"2\">(to table of contents)</font>](#1common.)"
   ]
  },
  {
   "cell_type": "code",
   "execution_count": 31,
   "metadata": {},
   "outputs": [],
   "source": [
    "#Profit calculation function\n",
    "def revenue(target, probabilities, count):\n",
    "    probs_sorted = probabilities.sort_values(ascending = False)\n",
    "    selected = target[probs_sorted.index][:count]\n",
    "    return 450000*selected.sum()-10000000000\n"
   ]
  },
  {
   "cell_type": "code",
   "execution_count": 32,
   "metadata": {},
   "outputs": [
    {
     "name": "stdout",
     "output_type": "stream",
     "text": [
      "Нижняя граница доверительного интервала: -0.017 млд.рублей\n",
      "Верхняя граница доверительного интервала: 0.089 млд.рублей\n",
      "\n",
      "Cредняя прибыль с геолокации: 0.037 млд.рублей\n",
      "Риск убытков 7.5%\n"
     ]
    }
   ],
   "source": [
    "def profit(answers, probabs):\n",
    "    target = pd.Series(answers)\n",
    "    probs = pd.Series(probabs)\n",
    "    values = []\n",
    "    for i in range(1000):\n",
    "        target_subsample = target.sample(n=500, replace=True, random_state = state)\n",
    "        probs_subsample = probs[target_subsample.index]\n",
    "        res = revenue(target_subsample, probs_subsample, 200)\n",
    "        values.append(res)\n",
    "\n",
    "    values = pd.Series(values)\n",
    "    lower = values.quantile(0.025)\n",
    "    upper = values.quantile(0.975)\n",
    "    print('Lower limit of the confidence interval: {:.3f}' .format(lower/10000000000), 'billion dollars')\n",
    "    print('The upper limit of the confidence interval: {:.3f}' .format(upper/10000000000), 'billion dollars')\n",
    "    print()\n",
    "    print('Average profit from geolocation: {:.3f}' .format(values.mean()/10000000000), 'billion dollars')\n",
    "    print('Risk of loss {0:.1%}'.format(len(values[values < 0])/len(values)))\n",
    "   \n",
    "profit(answers_0, predictions_valid_0)"
   ]
  },
  {
   "cell_type": "code",
   "execution_count": 33,
   "metadata": {},
   "outputs": [
    {
     "name": "stdout",
     "output_type": "stream",
     "text": [
      "Нижняя граница доверительного интервала: 0.007 млд.рублей\n",
      "Верхняя граница доверительного интервала: 0.091 млд.рублей\n",
      "\n",
      "Cредняя прибыль с геолокации: 0.048 млд.рублей\n",
      "Риск убытков 1.3%\n"
     ]
    }
   ],
   "source": [
    "profit(answers_1, predictions_valid_1)"
   ]
  },
  {
   "cell_type": "code",
   "execution_count": 34,
   "metadata": {},
   "outputs": [
    {
     "name": "stdout",
     "output_type": "stream",
     "text": [
      "Нижняя граница доверительного интервала: -0.021 млд.рублей\n",
      "Верхняя граница доверительного интервала: 0.091 млд.рублей\n",
      "\n",
      "Cредняя прибыль с геолокации: 0.037 млд.рублей\n",
      "Риск убытков 10.0%\n"
     ]
    }
   ],
   "source": [
    "profit(answers_2, predictions_valid_2)"
   ]
  },
  {
   "cell_type": "code",
   "execution_count": null,
   "metadata": {},
   "outputs": [],
   "source": []
  },
  {
   "cell_type": "markdown",
   "metadata": {},
   "source": [
    "<div class=\"alert alert-info\" style=\"border:solid blue 2px; padding: 20px\"> <b>Conclusion:</b> \n",
    "The average profit for all three locations is approximately the same, but the greatest risk of loss is present in locations 0 and 2</div>"
   ]
  },
  {
   "cell_type": "markdown",
   "metadata": {},
   "source": [
    "<div class=\"alert alert-info\" style=\"border:solid blue 2px; padding: 20px\"> <b>General conclusion:</b> After analyzing the entire study, you can safely make a choice in favor of developing wells at location 1. The model, based on data from location 1, gives fairly clear predictions (RMSE is minimal). There are fewer liquid wells than in other locations, but considering that you need to take the best 200, the location is suitable. (the number of liquid wells is 91765). Average profit, insignificantly, but more than the rest. The risk of loss is minimal. The model has passed the break-even test. The same cannot be said about locations 0 and 2.</div>"
   ]
  },
  {
   "cell_type": "code",
   "execution_count": null,
   "metadata": {},
   "outputs": [],
   "source": []
  }
 ],
 "metadata": {
  "kernelspec": {
   "display_name": "Python 3",
   "language": "python",
   "name": "python3"
  },
  "language_info": {
   "codemirror_mode": {
    "name": "ipython",
    "version": 3
   },
   "file_extension": ".py",
   "mimetype": "text/x-python",
   "name": "python",
   "nbconvert_exporter": "python",
   "pygments_lexer": "ipython3",
   "version": "3.8.5"
  }
 },
 "nbformat": 4,
 "nbformat_minor": 2
}
